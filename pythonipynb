{
  "cells": [
    {
      "metadata": {},
      "cell_type": "markdown",
      "source": "Ans1)"
    },
    {
      "metadata": {},
      "cell_type": "markdown",
      "source": "Activity\t                     Data Type\nNumber of beatings from Wife\t Discrete\nResults of rolling a dice\t     Discrete\nWeight of a person\t             Continuous\nWeight of Gold\t                 Continuous\nDistance between two places\t     Continuous\nLength of a leaf\t             Continuous\nDog's weight\t                 Continuous\nBlue Color\t                      Discrete\nNumber of kids\t                  Discrete\nNumber of tickets in Indian \n railway                          Discrete\nNumber of times married      \t  Discrete\nGender (Male or Female)\t          Discrete\n\n"
    },
    {
      "metadata": {},
      "cell_type": "markdown",
      "source": "Ans 2)"
    },
    {
      "metadata": {},
      "cell_type": "markdown",
      "source": " Data\t                    Data Type\nGender\t                    Nominal\nHigh School Class Ranking\tOrdinal\nCelsius Temperature\t        Interval\nWeight                       Ratio\nHair Color\t                Nominal\nSocioeconomic Status\t    Ordinal\nFahrenheit Temperature\t    Interval\nHeight\t                     Ratio\nType of living accommodation Ordinal\nLevel of Agreement\t         Ordinal\nIQ(Intelligence Scale)\t     Ratio\nSales Figures\t              Ratio\nBlood Group\t                 Nominal\nTime Of Day\t                Interval\nTime on a Clock with Hands\tInterval\nNumber of Children\t        Nominal\nReligious Preference\t    Nominal\nBarometer Pressure\t        Interval\nSAT Scores\t                Interval\nYears of Education\t          Ratio\n"
    },
    {
      "metadata": {},
      "cell_type": "markdown",
      "source": "Ans 3)"
    },
    {
      "metadata": {},
      "cell_type": "markdown",
      "source": "S={HHH,HHT,HTH,HTT,THH,THT,TTH,TTT}\n\tn(S)=8\n\tE=Two heads and one tail\n\tE={HHT,HTH,THH}\n\tn(E)=3\n\tn(E)/n(S)=3/8\n"
    },
    {
      "metadata": {},
      "cell_type": "markdown",
      "source": "Ans 4)"
    },
    {
      "metadata": {},
      "cell_type": "markdown",
      "source": "S={ (1, 1)(1, 2)(1, 3)(1, 4)(1, 5)(1, 6)\t\t\n\t (2, 1)(2, 2)(2, 3)(2, 4)(2, 5)(2, 6)\n\t (3, 1)(3, 2)(3, 3)(3, 4)(3, 5)(3, 6)\n\t (4, 1)(4, 2)(4, 3)(4, 4)(4, 5)(4, 6)\n\t (5, 1)(5, 2)(5, 3)(5, 4)(5, 5)(5, 6)\n\t (6, 1)(6, 2)(6, 3)(6, 4)(6, 5)(6, 6)}\n\nn(s)=36\n\na) probability=0\nb) 4= 1/6\n          c) Probability= 1/6\n"
    },
    {
      "metadata": {},
      "cell_type": "markdown",
      "source": "Ans 5)"
    },
    {
      "metadata": {},
      "cell_type": "markdown",
      "source": "probability that none of the balls drawn is blue =10/21\n\t\t\t\t\t\t\t     =0.47\n"
    },
    {
      "metadata": {},
      "cell_type": "markdown",
      "source": "Ans 6)"
    },
    {
      "metadata": {},
      "cell_type": "markdown",
      "source": "E(x)=1*0.015+4*0.20+3*0.65+5*0.005+6*0.01+2*0.120\n\t\t= 3.09\n"
    },
    {
      "metadata": {},
      "cell_type": "markdown",
      "source": "ans 7)"
    },
    {
      "metadata": {
        "trusted": false
      },
      "cell_type": "code",
      "source": "import numpy as np\nimport pandas as pd",
      "execution_count": 8,
      "outputs": []
    },
    {
      "metadata": {
        "trusted": false
      },
      "cell_type": "code",
      "source": "df=pd.read_csv(\"Q7.csv\")",
      "execution_count": 9,
      "outputs": []
    },
    {
      "metadata": {
        "trusted": false
      },
      "cell_type": "code",
      "source": "df.head(10)",
      "execution_count": 4,
      "outputs": [
        {
          "data": {
            "text/html": "<div>\n<style scoped>\n    .dataframe tbody tr th:only-of-type {\n        vertical-align: middle;\n    }\n\n    .dataframe tbody tr th {\n        vertical-align: top;\n    }\n\n    .dataframe thead th {\n        text-align: right;\n    }\n</style>\n<table border=\"1\" class=\"dataframe\">\n  <thead>\n    <tr style=\"text-align: right;\">\n      <th></th>\n      <th>Unnamed: 0</th>\n      <th>Points</th>\n      <th>Score</th>\n      <th>Weigh</th>\n    </tr>\n  </thead>\n  <tbody>\n    <tr>\n      <th>0</th>\n      <td>Mazda RX4</td>\n      <td>3.90</td>\n      <td>2.620</td>\n      <td>16.46</td>\n    </tr>\n    <tr>\n      <th>1</th>\n      <td>Mazda RX4 Wag</td>\n      <td>3.90</td>\n      <td>2.875</td>\n      <td>17.02</td>\n    </tr>\n    <tr>\n      <th>2</th>\n      <td>Datsun 710</td>\n      <td>3.85</td>\n      <td>2.320</td>\n      <td>18.61</td>\n    </tr>\n    <tr>\n      <th>3</th>\n      <td>Hornet 4 Drive</td>\n      <td>3.08</td>\n      <td>3.215</td>\n      <td>19.44</td>\n    </tr>\n    <tr>\n      <th>4</th>\n      <td>Hornet Sportabout</td>\n      <td>3.15</td>\n      <td>3.440</td>\n      <td>17.02</td>\n    </tr>\n    <tr>\n      <th>5</th>\n      <td>Valiant</td>\n      <td>2.76</td>\n      <td>3.460</td>\n      <td>20.22</td>\n    </tr>\n    <tr>\n      <th>6</th>\n      <td>Duster 360</td>\n      <td>3.21</td>\n      <td>3.570</td>\n      <td>15.84</td>\n    </tr>\n    <tr>\n      <th>7</th>\n      <td>Merc 240D</td>\n      <td>3.69</td>\n      <td>3.190</td>\n      <td>20.00</td>\n    </tr>\n    <tr>\n      <th>8</th>\n      <td>Merc 230</td>\n      <td>3.92</td>\n      <td>3.150</td>\n      <td>22.90</td>\n    </tr>\n    <tr>\n      <th>9</th>\n      <td>Merc 280</td>\n      <td>3.92</td>\n      <td>3.440</td>\n      <td>18.30</td>\n    </tr>\n  </tbody>\n</table>\n</div>",
            "text/plain": "          Unnamed: 0  Points  Score  Weigh\n0          Mazda RX4    3.90  2.620  16.46\n1      Mazda RX4 Wag    3.90  2.875  17.02\n2         Datsun 710    3.85  2.320  18.61\n3     Hornet 4 Drive    3.08  3.215  19.44\n4  Hornet Sportabout    3.15  3.440  17.02\n5            Valiant    2.76  3.460  20.22\n6         Duster 360    3.21  3.570  15.84\n7          Merc 240D    3.69  3.190  20.00\n8           Merc 230    3.92  3.150  22.90\n9           Merc 280    3.92  3.440  18.30"
          },
          "execution_count": 4,
          "metadata": {},
          "output_type": "execute_result"
        }
      ]
    },
    {
      "metadata": {
        "trusted": false
      },
      "cell_type": "code",
      "source": "df.Points.mode()",
      "execution_count": 5,
      "outputs": [
        {
          "data": {
            "text/plain": "0    3.07\n1    3.92\ndtype: float64"
          },
          "execution_count": 5,
          "metadata": {},
          "output_type": "execute_result"
        }
      ]
    },
    {
      "metadata": {
        "trusted": false
      },
      "cell_type": "code",
      "source": "df.Points.var()",
      "execution_count": 10,
      "outputs": [
        {
          "data": {
            "text/plain": "0.28588135080645166"
          },
          "execution_count": 10,
          "metadata": {},
          "output_type": "execute_result"
        }
      ]
    },
    {
      "metadata": {
        "trusted": false
      },
      "cell_type": "code",
      "source": "df.Score.var()",
      "execution_count": 10,
      "outputs": [
        {
          "data": {
            "text/plain": "0.9573789677419354"
          },
          "execution_count": 10,
          "metadata": {},
          "output_type": "execute_result"
        }
      ]
    },
    {
      "metadata": {
        "trusted": false
      },
      "cell_type": "code",
      "source": "df.Score.mode()",
      "execution_count": 11,
      "outputs": [
        {
          "data": {
            "text/plain": "0    3.44\ndtype: float64"
          },
          "execution_count": 11,
          "metadata": {},
          "output_type": "execute_result"
        }
      ]
    },
    {
      "metadata": {
        "trusted": false
      },
      "cell_type": "code",
      "source": "df.Weigh.mode()",
      "execution_count": 12,
      "outputs": [
        {
          "data": {
            "text/plain": "0    17.02\n1    18.90\ndtype: float64"
          },
          "execution_count": 12,
          "metadata": {},
          "output_type": "execute_result"
        }
      ]
    },
    {
      "metadata": {
        "trusted": false
      },
      "cell_type": "code",
      "source": "df.Score.var()",
      "execution_count": 13,
      "outputs": [
        {
          "data": {
            "text/plain": "0.9573789677419354"
          },
          "execution_count": 13,
          "metadata": {},
          "output_type": "execute_result"
        }
      ]
    },
    {
      "metadata": {
        "trusted": false
      },
      "cell_type": "code",
      "source": "df.Weigh.var()",
      "execution_count": 14,
      "outputs": [
        {
          "data": {
            "text/plain": "3.193166129032258"
          },
          "execution_count": 14,
          "metadata": {},
          "output_type": "execute_result"
        }
      ]
    },
    {
      "metadata": {
        "scrolled": false,
        "trusted": false
      },
      "cell_type": "code",
      "source": "df.describe()",
      "execution_count": 12,
      "outputs": [
        {
          "data": {
            "text/html": "<div>\n<style scoped>\n    .dataframe tbody tr th:only-of-type {\n        vertical-align: middle;\n    }\n\n    .dataframe tbody tr th {\n        vertical-align: top;\n    }\n\n    .dataframe thead th {\n        text-align: right;\n    }\n</style>\n<table border=\"1\" class=\"dataframe\">\n  <thead>\n    <tr style=\"text-align: right;\">\n      <th></th>\n      <th>Points</th>\n      <th>Score</th>\n      <th>Weigh</th>\n    </tr>\n  </thead>\n  <tbody>\n    <tr>\n      <th>count</th>\n      <td>32.000000</td>\n      <td>32.000000</td>\n      <td>32.000000</td>\n    </tr>\n    <tr>\n      <th>mean</th>\n      <td>3.596563</td>\n      <td>3.217250</td>\n      <td>17.848750</td>\n    </tr>\n    <tr>\n      <th>std</th>\n      <td>0.534679</td>\n      <td>0.978457</td>\n      <td>1.786943</td>\n    </tr>\n    <tr>\n      <th>min</th>\n      <td>2.760000</td>\n      <td>1.513000</td>\n      <td>14.500000</td>\n    </tr>\n    <tr>\n      <th>25%</th>\n      <td>3.080000</td>\n      <td>2.581250</td>\n      <td>16.892500</td>\n    </tr>\n    <tr>\n      <th>50%</th>\n      <td>3.695000</td>\n      <td>3.325000</td>\n      <td>17.710000</td>\n    </tr>\n    <tr>\n      <th>75%</th>\n      <td>3.920000</td>\n      <td>3.610000</td>\n      <td>18.900000</td>\n    </tr>\n    <tr>\n      <th>max</th>\n      <td>4.930000</td>\n      <td>5.424000</td>\n      <td>22.900000</td>\n    </tr>\n  </tbody>\n</table>\n</div>",
            "text/plain": "          Points      Score      Weigh\ncount  32.000000  32.000000  32.000000\nmean    3.596563   3.217250  17.848750\nstd     0.534679   0.978457   1.786943\nmin     2.760000   1.513000  14.500000\n25%     3.080000   2.581250  16.892500\n50%     3.695000   3.325000  17.710000\n75%     3.920000   3.610000  18.900000\nmax     4.930000   5.424000  22.900000"
          },
          "execution_count": 12,
          "metadata": {},
          "output_type": "execute_result"
        }
      ]
    },
    {
      "metadata": {
        "scrolled": true,
        "trusted": false
      },
      "cell_type": "code",
      "source": "df.Points.max()-df.Points.min() ",
      "execution_count": 14,
      "outputs": [
        {
          "data": {
            "text/plain": "2.17"
          },
          "execution_count": 14,
          "metadata": {},
          "output_type": "execute_result"
        }
      ]
    },
    {
      "metadata": {
        "trusted": false
      },
      "cell_type": "code",
      "source": "df.Score.max()-df.Score.min()",
      "execution_count": 15,
      "outputs": [
        {
          "data": {
            "text/plain": "3.9109999999999996"
          },
          "execution_count": 15,
          "metadata": {},
          "output_type": "execute_result"
        }
      ]
    },
    {
      "metadata": {
        "scrolled": true,
        "trusted": false
      },
      "cell_type": "code",
      "source": "df.Weigh.max()-df.Weigh.min()",
      "execution_count": 16,
      "outputs": [
        {
          "data": {
            "text/plain": "8.399999999999999"
          },
          "execution_count": 16,
          "metadata": {},
          "output_type": "execute_result"
        }
      ]
    },
    {
      "metadata": {},
      "cell_type": "markdown",
      "source": "Ans 8)"
    },
    {
      "metadata": {},
      "cell_type": "markdown",
      "source": "E(X)= (108+ 110+ 123 + 134 + 135+145+ 167+ 187+ 199)/9\n\t=145.3\t\n"
    },
    {
      "metadata": {},
      "cell_type": "markdown",
      "source": "Ans 9 )"
    },
    {
      "metadata": {
        "trusted": false
      },
      "cell_type": "code",
      "source": "data=pd.read_csv(\"Q9_a.csv\")",
      "execution_count": 17,
      "outputs": []
    },
    {
      "metadata": {
        "trusted": false
      },
      "cell_type": "code",
      "source": "data.head(10)",
      "execution_count": 18,
      "outputs": [
        {
          "data": {
            "text/html": "<div>\n<style scoped>\n    .dataframe tbody tr th:only-of-type {\n        vertical-align: middle;\n    }\n\n    .dataframe tbody tr th {\n        vertical-align: top;\n    }\n\n    .dataframe thead th {\n        text-align: right;\n    }\n</style>\n<table border=\"1\" class=\"dataframe\">\n  <thead>\n    <tr style=\"text-align: right;\">\n      <th></th>\n      <th>Index</th>\n      <th>speed</th>\n      <th>dist</th>\n    </tr>\n  </thead>\n  <tbody>\n    <tr>\n      <th>0</th>\n      <td>1</td>\n      <td>4</td>\n      <td>2</td>\n    </tr>\n    <tr>\n      <th>1</th>\n      <td>2</td>\n      <td>4</td>\n      <td>10</td>\n    </tr>\n    <tr>\n      <th>2</th>\n      <td>3</td>\n      <td>7</td>\n      <td>4</td>\n    </tr>\n    <tr>\n      <th>3</th>\n      <td>4</td>\n      <td>7</td>\n      <td>22</td>\n    </tr>\n    <tr>\n      <th>4</th>\n      <td>5</td>\n      <td>8</td>\n      <td>16</td>\n    </tr>\n    <tr>\n      <th>5</th>\n      <td>6</td>\n      <td>9</td>\n      <td>10</td>\n    </tr>\n    <tr>\n      <th>6</th>\n      <td>7</td>\n      <td>10</td>\n      <td>18</td>\n    </tr>\n    <tr>\n      <th>7</th>\n      <td>8</td>\n      <td>10</td>\n      <td>26</td>\n    </tr>\n    <tr>\n      <th>8</th>\n      <td>9</td>\n      <td>10</td>\n      <td>34</td>\n    </tr>\n    <tr>\n      <th>9</th>\n      <td>10</td>\n      <td>11</td>\n      <td>17</td>\n    </tr>\n  </tbody>\n</table>\n</div>",
            "text/plain": "   Index  speed  dist\n0      1      4     2\n1      2      4    10\n2      3      7     4\n3      4      7    22\n4      5      8    16\n5      6      9    10\n6      7     10    18\n7      8     10    26\n8      9     10    34\n9     10     11    17"
          },
          "execution_count": 18,
          "metadata": {},
          "output_type": "execute_result"
        }
      ]
    },
    {
      "metadata": {
        "trusted": false
      },
      "cell_type": "code",
      "source": "data['speed'].skew()",
      "execution_count": 20,
      "outputs": [
        {
          "data": {
            "text/plain": "-0.11750986144663393"
          },
          "execution_count": 20,
          "metadata": {},
          "output_type": "execute_result"
        }
      ]
    },
    {
      "metadata": {
        "trusted": false
      },
      "cell_type": "code",
      "source": "data['dist'].skew()",
      "execution_count": 21,
      "outputs": [
        {
          "data": {
            "text/plain": "0.8068949601674215"
          },
          "execution_count": 21,
          "metadata": {},
          "output_type": "execute_result"
        }
      ]
    },
    {
      "metadata": {
        "trusted": false
      },
      "cell_type": "code",
      "source": "data['speed'].kurt()",
      "execution_count": 22,
      "outputs": [
        {
          "data": {
            "text/plain": "-0.5089944204057617"
          },
          "execution_count": 22,
          "metadata": {},
          "output_type": "execute_result"
        }
      ]
    },
    {
      "metadata": {
        "trusted": false
      },
      "cell_type": "code",
      "source": "data['dist'].kurt()",
      "execution_count": 23,
      "outputs": [
        {
          "data": {
            "text/plain": "0.4050525816795765"
          },
          "execution_count": 23,
          "metadata": {},
          "output_type": "execute_result"
        }
      ]
    },
    {
      "metadata": {},
      "cell_type": "markdown",
      "source": "there is a difference in the kurtosis values "
    },
    {
      "metadata": {
        "trusted": false
      },
      "cell_type": "code",
      "source": "data1=pd.read_csv(\"Q9_b.csv\")",
      "execution_count": 25,
      "outputs": []
    },
    {
      "metadata": {
        "trusted": false
      },
      "cell_type": "code",
      "source": "data1.head(10)",
      "execution_count": 26,
      "outputs": [
        {
          "data": {
            "text/html": "<div>\n<style scoped>\n    .dataframe tbody tr th:only-of-type {\n        vertical-align: middle;\n    }\n\n    .dataframe tbody tr th {\n        vertical-align: top;\n    }\n\n    .dataframe thead th {\n        text-align: right;\n    }\n</style>\n<table border=\"1\" class=\"dataframe\">\n  <thead>\n    <tr style=\"text-align: right;\">\n      <th></th>\n      <th>Unnamed: 0</th>\n      <th>SP</th>\n      <th>WT</th>\n    </tr>\n  </thead>\n  <tbody>\n    <tr>\n      <th>0</th>\n      <td>1</td>\n      <td>104.185353</td>\n      <td>28.762059</td>\n    </tr>\n    <tr>\n      <th>1</th>\n      <td>2</td>\n      <td>105.461264</td>\n      <td>30.466833</td>\n    </tr>\n    <tr>\n      <th>2</th>\n      <td>3</td>\n      <td>105.461264</td>\n      <td>30.193597</td>\n    </tr>\n    <tr>\n      <th>3</th>\n      <td>4</td>\n      <td>113.461264</td>\n      <td>30.632114</td>\n    </tr>\n    <tr>\n      <th>4</th>\n      <td>5</td>\n      <td>104.461264</td>\n      <td>29.889149</td>\n    </tr>\n    <tr>\n      <th>5</th>\n      <td>6</td>\n      <td>113.185353</td>\n      <td>29.591768</td>\n    </tr>\n    <tr>\n      <th>6</th>\n      <td>7</td>\n      <td>105.461264</td>\n      <td>30.308480</td>\n    </tr>\n    <tr>\n      <th>7</th>\n      <td>8</td>\n      <td>102.598513</td>\n      <td>15.847758</td>\n    </tr>\n    <tr>\n      <th>8</th>\n      <td>9</td>\n      <td>102.598513</td>\n      <td>16.359484</td>\n    </tr>\n    <tr>\n      <th>9</th>\n      <td>10</td>\n      <td>115.645204</td>\n      <td>30.920154</td>\n    </tr>\n  </tbody>\n</table>\n</div>",
            "text/plain": "   Unnamed: 0          SP         WT\n0           1  104.185353  28.762059\n1           2  105.461264  30.466833\n2           3  105.461264  30.193597\n3           4  113.461264  30.632114\n4           5  104.461264  29.889149\n5           6  113.185353  29.591768\n6           7  105.461264  30.308480\n7           8  102.598513  15.847758\n8           9  102.598513  16.359484\n9          10  115.645204  30.920154"
          },
          "execution_count": 26,
          "metadata": {},
          "output_type": "execute_result"
        }
      ]
    },
    {
      "metadata": {
        "trusted": false
      },
      "cell_type": "code",
      "source": "data1['SP'].skew()",
      "execution_count": 28,
      "outputs": [
        {
          "data": {
            "text/plain": "1.6114501961773555"
          },
          "execution_count": 28,
          "metadata": {},
          "output_type": "execute_result"
        }
      ]
    },
    {
      "metadata": {
        "trusted": false
      },
      "cell_type": "code",
      "source": "data1['WT'].skew()",
      "execution_count": 29,
      "outputs": [
        {
          "data": {
            "text/plain": "-0.6147533255357768"
          },
          "execution_count": 29,
          "metadata": {},
          "output_type": "execute_result"
        }
      ]
    },
    {
      "metadata": {
        "trusted": false
      },
      "cell_type": "code",
      "source": "data1['WT'].kurt()",
      "execution_count": 30,
      "outputs": [
        {
          "data": {
            "text/plain": "0.9502914910300326"
          },
          "execution_count": 30,
          "metadata": {},
          "output_type": "execute_result"
        }
      ]
    },
    {
      "metadata": {
        "trusted": false
      },
      "cell_type": "code",
      "source": "data1['SP'].kurt()",
      "execution_count": 31,
      "outputs": [
        {
          "data": {
            "text/plain": "2.9773289437871764"
          },
          "execution_count": 31,
          "metadata": {},
          "output_type": "execute_result"
        }
      ]
    },
    {
      "metadata": {},
      "cell_type": "markdown",
      "source": "Ans 10)"
    },
    {
      "metadata": {},
      "cell_type": "markdown",
      "source": "The boxplot  has lots of outliers towards upper extreme\nin histogram it is not a normal distribution and is positively skewed"
    },
    {
      "metadata": {},
      "cell_type": "markdown",
      "source": "ans 11)"
    },
    {
      "metadata": {
        "trusted": false
      },
      "cell_type": "code",
      "source": "from scipy import stats",
      "execution_count": 16,
      "outputs": []
    },
    {
      "metadata": {
        "trusted": false
      },
      "cell_type": "code",
      "source": "weight = stats.norm.interval(0.97, loc = 200, scale = 30)\nprint(' weight of adult  at 94% confidence interval', np.round(weight, 3))\n",
      "execution_count": 18,
      "outputs": [
        {
          "name": "stdout",
          "output_type": "stream",
          "text": " weight of adult  at 94% confidence interval [134.897 265.103]\n"
        }
      ]
    },
    {
      "metadata": {
        "trusted": false
      },
      "cell_type": "code",
      "source": "weight2 = stats.norm.interval(0.99, loc = 200, scale = 30)\nprint(' weight of adult  at 98% confidence interval', np.round(weight2, 3))\n",
      "execution_count": 19,
      "outputs": [
        {
          "name": "stdout",
          "output_type": "stream",
          "text": "Average weight of adult in Mexico at 98% confidence interval [122.725 277.275]\n"
        }
      ]
    },
    {
      "metadata": {
        "trusted": false
      },
      "cell_type": "code",
      "source": "Weight3 = stats.norm.interval(0.98, loc = 200, scale = 30)\nprint(' weight of adult  at 96% confidence interval', np.round(Weight3, 3))\n",
      "execution_count": 20,
      "outputs": [
        {
          "name": "stdout",
          "output_type": "stream",
          "text": " weight of adult  at 96% confidence interval [130.21 269.79]\n"
        }
      ]
    },
    {
      "metadata": {},
      "cell_type": "markdown",
      "source": "Ans 12)"
    },
    {
      "metadata": {
        "trusted": false
      },
      "cell_type": "code",
      "source": "data2=pd.Series([34,36,36,38,38,39,39,40,40,41,41,41,41,42,42,45,49,56])\n",
      "execution_count": 43,
      "outputs": []
    },
    {
      "metadata": {
        "trusted": false
      },
      "cell_type": "code",
      "source": "data2.mean()\n",
      "execution_count": 44,
      "outputs": [
        {
          "data": {
            "text/plain": "41.0"
          },
          "execution_count": 44,
          "metadata": {},
          "output_type": "execute_result"
        }
      ]
    },
    {
      "metadata": {
        "trusted": false
      },
      "cell_type": "code",
      "source": "data2.median()",
      "execution_count": 45,
      "outputs": [
        {
          "data": {
            "text/plain": "40.5"
          },
          "execution_count": 45,
          "metadata": {},
          "output_type": "execute_result"
        }
      ]
    },
    {
      "metadata": {
        "trusted": false
      },
      "cell_type": "code",
      "source": "data2.var()",
      "execution_count": 46,
      "outputs": [
        {
          "data": {
            "text/plain": "25.529411764705884"
          },
          "execution_count": 46,
          "metadata": {},
          "output_type": "execute_result"
        }
      ]
    },
    {
      "metadata": {
        "trusted": false
      },
      "cell_type": "code",
      "source": "data2.std()",
      "execution_count": 47,
      "outputs": [
        {
          "data": {
            "text/plain": "5.05266382858645"
          },
          "execution_count": 47,
          "metadata": {},
          "output_type": "execute_result"
        }
      ]
    },
    {
      "metadata": {},
      "cell_type": "markdown",
      "source": "Mean > Median, This implies that the distribution is slightly skewed towards right. No outliers are present"
    },
    {
      "metadata": {},
      "cell_type": "markdown",
      "source": "Ans 13) Zero Skewness\nAns 14)Positive Skewed\nAns 15)Negative Skewed\nAns 16)distance is peaked and possess thick tails\nAns 17)distance is flat and has thin tails"
    },
    {
      "metadata": {},
      "cell_type": "markdown",
      "source": "Ans 18)"
    },
    {
      "metadata": {},
      "cell_type": "markdown",
      "source": "1)not a normal distribution\n2)It is left skewed.\n3)18-10=8"
    },
    {
      "metadata": {},
      "cell_type": "markdown",
      "source": "Ans 19)"
    },
    {
      "metadata": {},
      "cell_type": "markdown",
      "source": "1) No outliers\n2)median is same in both boxplot"
    },
    {
      "metadata": {},
      "cell_type": "markdown",
      "source": "Ans 20)"
    },
    {
      "metadata": {
        "trusted": false
      },
      "cell_type": "code",
      "source": "mpg=pd.read_csv(\"Cars.csv\")",
      "execution_count": 22,
      "outputs": []
    },
    {
      "metadata": {
        "trusted": false
      },
      "cell_type": "code",
      "source": "mpg.head(10)",
      "execution_count": 23,
      "outputs": [
        {
          "data": {
            "text/html": "<div>\n<style scoped>\n    .dataframe tbody tr th:only-of-type {\n        vertical-align: middle;\n    }\n\n    .dataframe tbody tr th {\n        vertical-align: top;\n    }\n\n    .dataframe thead th {\n        text-align: right;\n    }\n</style>\n<table border=\"1\" class=\"dataframe\">\n  <thead>\n    <tr style=\"text-align: right;\">\n      <th></th>\n      <th>HP</th>\n      <th>MPG</th>\n      <th>VOL</th>\n      <th>SP</th>\n      <th>WT</th>\n    </tr>\n  </thead>\n  <tbody>\n    <tr>\n      <th>0</th>\n      <td>49</td>\n      <td>53.700681</td>\n      <td>89</td>\n      <td>104.185353</td>\n      <td>28.762059</td>\n    </tr>\n    <tr>\n      <th>1</th>\n      <td>55</td>\n      <td>50.013401</td>\n      <td>92</td>\n      <td>105.461264</td>\n      <td>30.466833</td>\n    </tr>\n    <tr>\n      <th>2</th>\n      <td>55</td>\n      <td>50.013401</td>\n      <td>92</td>\n      <td>105.461264</td>\n      <td>30.193597</td>\n    </tr>\n    <tr>\n      <th>3</th>\n      <td>70</td>\n      <td>45.696322</td>\n      <td>92</td>\n      <td>113.461264</td>\n      <td>30.632114</td>\n    </tr>\n    <tr>\n      <th>4</th>\n      <td>53</td>\n      <td>50.504232</td>\n      <td>92</td>\n      <td>104.461264</td>\n      <td>29.889149</td>\n    </tr>\n    <tr>\n      <th>5</th>\n      <td>70</td>\n      <td>45.696322</td>\n      <td>89</td>\n      <td>113.185353</td>\n      <td>29.591768</td>\n    </tr>\n    <tr>\n      <th>6</th>\n      <td>55</td>\n      <td>50.013401</td>\n      <td>92</td>\n      <td>105.461264</td>\n      <td>30.308480</td>\n    </tr>\n    <tr>\n      <th>7</th>\n      <td>62</td>\n      <td>46.716554</td>\n      <td>50</td>\n      <td>102.598513</td>\n      <td>15.847758</td>\n    </tr>\n    <tr>\n      <th>8</th>\n      <td>62</td>\n      <td>46.716554</td>\n      <td>50</td>\n      <td>102.598513</td>\n      <td>16.359484</td>\n    </tr>\n    <tr>\n      <th>9</th>\n      <td>80</td>\n      <td>42.299078</td>\n      <td>94</td>\n      <td>115.645204</td>\n      <td>30.920154</td>\n    </tr>\n  </tbody>\n</table>\n</div>",
            "text/plain": "   HP        MPG  VOL          SP         WT\n0  49  53.700681   89  104.185353  28.762059\n1  55  50.013401   92  105.461264  30.466833\n2  55  50.013401   92  105.461264  30.193597\n3  70  45.696322   92  113.461264  30.632114\n4  53  50.504232   92  104.461264  29.889149\n5  70  45.696322   89  113.185353  29.591768\n6  55  50.013401   92  105.461264  30.308480\n7  62  46.716554   50  102.598513  15.847758\n8  62  46.716554   50  102.598513  16.359484\n9  80  42.299078   94  115.645204  30.920154"
          },
          "execution_count": 23,
          "metadata": {},
          "output_type": "execute_result"
        }
      ]
    },
    {
      "metadata": {
        "trusted": false
      },
      "cell_type": "code",
      "source": "MPG=mpg['MPG']",
      "execution_count": 24,
      "outputs": []
    },
    {
      "metadata": {
        "trusted": false
      },
      "cell_type": "code",
      "source": "MPG",
      "execution_count": 11,
      "outputs": [
        {
          "data": {
            "text/plain": "0     53.700681\n1     50.013401\n2     50.013401\n3     45.696322\n4     50.504232\n        ...    \n76    36.900000\n77    19.197888\n78    34.000000\n79    19.833733\n80    12.101263\nName: MPG, Length: 81, dtype: float64"
          },
          "execution_count": 11,
          "metadata": {},
          "output_type": "execute_result"
        }
      ]
    },
    {
      "metadata": {
        "trusted": false
      },
      "cell_type": "code",
      "source": "mpg.mean()\n",
      "execution_count": 13,
      "outputs": [
        {
          "data": {
            "text/plain": "HP     117.469136\nMPG     34.422076\nVOL     98.765432\nSP     121.540272\nWT      32.412577\ndtype: float64"
          },
          "execution_count": 13,
          "metadata": {},
          "output_type": "execute_result"
        }
      ]
    },
    {
      "metadata": {
        "trusted": false
      },
      "cell_type": "code",
      "source": "mpg['MPG'].mean()",
      "execution_count": 14,
      "outputs": [
        {
          "data": {
            "text/plain": "34.422075728024666"
          },
          "execution_count": 14,
          "metadata": {},
          "output_type": "execute_result"
        }
      ]
    },
    {
      "metadata": {
        "trusted": false
      },
      "cell_type": "code",
      "source": "mpg['MPG'].std()",
      "execution_count": 15,
      "outputs": [
        {
          "data": {
            "text/plain": "9.131444731795982"
          },
          "execution_count": 15,
          "metadata": {},
          "output_type": "execute_result"
        }
      ]
    },
    {
      "metadata": {
        "trusted": false
      },
      "cell_type": "code",
      "source": "from scipy import stats\n",
      "execution_count": 25,
      "outputs": []
    },
    {
      "metadata": {
        "trusted": false
      },
      "cell_type": "code",
      "source": "1-(stats.norm.cdf(38,loc=mpg['MPG'].mean(),scale=mpg['MPG'].std()))",
      "execution_count": 27,
      "outputs": [
        {
          "data": {
            "text/plain": "0.3475939251582705"
          },
          "execution_count": 27,
          "metadata": {},
          "output_type": "execute_result"
        }
      ]
    },
    {
      "metadata": {
        "trusted": false
      },
      "cell_type": "code",
      "source": "stats.norm.cdf(40,loc=mpg['MPG'].mean(),scale=mpg['MPG'].std())",
      "execution_count": 17,
      "outputs": [
        {
          "data": {
            "text/plain": "0.7293498762151616"
          },
          "execution_count": 17,
          "metadata": {},
          "output_type": "execute_result"
        }
      ]
    },
    {
      "metadata": {
        "trusted": false
      },
      "cell_type": "code",
      "source": "1-(stats.norm.cdf(20,loc=mpg['MPG'].mean(),scale=mpg['MPG'].std()))-(stats.norm.cdf(50,loc=mpg['MPG'].mean(),scale=mpg['MPG'].std()))",
      "execution_count": 28,
      "outputs": [
        {
          "data": {
            "text/plain": "-0.013116469610523374"
          },
          "execution_count": 28,
          "metadata": {},
          "output_type": "execute_result"
        }
      ]
    },
    {
      "metadata": {},
      "cell_type": "markdown",
      "source": "Ans 21)Zscore\n"
    },
    {
      "metadata": {
        "trusted": false
      },
      "cell_type": "code",
      "source": "stats.norm.ppf(0.95)",
      "execution_count": 19,
      "outputs": [
        {
          "data": {
            "text/plain": "1.6448536269514722"
          },
          "execution_count": 19,
          "metadata": {},
          "output_type": "execute_result"
        }
      ]
    },
    {
      "metadata": {
        "trusted": false
      },
      "cell_type": "code",
      "source": "stats.norm.ppf(0.97)",
      "execution_count": 3,
      "outputs": [
        {
          "data": {
            "text/plain": "1.8807936081512509"
          },
          "execution_count": 3,
          "metadata": {},
          "output_type": "execute_result"
        }
      ]
    },
    {
      "metadata": {
        "trusted": false
      },
      "cell_type": "code",
      "source": "stats.norm.ppf(0.8)",
      "execution_count": 4,
      "outputs": [
        {
          "data": {
            "text/plain": "0.8416212335729143"
          },
          "execution_count": 4,
          "metadata": {},
          "output_type": "execute_result"
        }
      ]
    },
    {
      "metadata": {},
      "cell_type": "markdown",
      "source": "Ans 22)t score"
    },
    {
      "metadata": {
        "trusted": false
      },
      "cell_type": "code",
      "source": "stats.t.ppf(0.975,df=24)",
      "execution_count": 21,
      "outputs": [
        {
          "data": {
            "text/plain": "2.0638985616280205"
          },
          "execution_count": 21,
          "metadata": {},
          "output_type": "execute_result"
        }
      ]
    },
    {
      "metadata": {
        "trusted": false
      },
      "cell_type": "code",
      "source": "stats.t.ppf(0.98,df=24)",
      "execution_count": 22,
      "outputs": [
        {
          "data": {
            "text/plain": "2.1715446760080677"
          },
          "execution_count": 22,
          "metadata": {},
          "output_type": "execute_result"
        }
      ]
    },
    {
      "metadata": {
        "trusted": false
      },
      "cell_type": "code",
      "source": "stats.t.ppf(0.995,df=24)",
      "execution_count": 23,
      "outputs": [
        {
          "data": {
            "text/plain": "2.796939504772804"
          },
          "execution_count": 23,
          "metadata": {},
          "output_type": "execute_result"
        }
      ]
    },
    {
      "metadata": {
        "trusted": false
      },
      "cell_type": "code",
      "source": "stats.t.ppf(0.975,df=139)",
      "execution_count": 3,
      "outputs": [
        {
          "data": {
            "text/plain": "1.977177724476122"
          },
          "execution_count": 3,
          "metadata": {},
          "output_type": "execute_result"
        }
      ]
    },
    {
      "metadata": {
        "trusted": false
      },
      "cell_type": "code",
      "source": "Ans 23)",
      "execution_count": null,
      "outputs": []
    },
    {
      "metadata": {
        "trusted": false
      },
      "cell_type": "code",
      "source": "import matplotlib.pylab as plt",
      "execution_count": 14,
      "outputs": []
    },
    {
      "metadata": {
        "trusted": false
      },
      "cell_type": "code",
      "source": "ass=pd.read_csv(\"Cars.csv\")",
      "execution_count": 7,
      "outputs": []
    },
    {
      "metadata": {
        "trusted": false
      },
      "cell_type": "code",
      "source": "ass.head()",
      "execution_count": 8,
      "outputs": [
        {
          "data": {
            "text/html": "<div>\n<style scoped>\n    .dataframe tbody tr th:only-of-type {\n        vertical-align: middle;\n    }\n\n    .dataframe tbody tr th {\n        vertical-align: top;\n    }\n\n    .dataframe thead th {\n        text-align: right;\n    }\n</style>\n<table border=\"1\" class=\"dataframe\">\n  <thead>\n    <tr style=\"text-align: right;\">\n      <th></th>\n      <th>HP</th>\n      <th>MPG</th>\n      <th>VOL</th>\n      <th>SP</th>\n      <th>WT</th>\n    </tr>\n  </thead>\n  <tbody>\n    <tr>\n      <th>0</th>\n      <td>49</td>\n      <td>53.700681</td>\n      <td>89</td>\n      <td>104.185353</td>\n      <td>28.762059</td>\n    </tr>\n    <tr>\n      <th>1</th>\n      <td>55</td>\n      <td>50.013401</td>\n      <td>92</td>\n      <td>105.461264</td>\n      <td>30.466833</td>\n    </tr>\n    <tr>\n      <th>2</th>\n      <td>55</td>\n      <td>50.013401</td>\n      <td>92</td>\n      <td>105.461264</td>\n      <td>30.193597</td>\n    </tr>\n    <tr>\n      <th>3</th>\n      <td>70</td>\n      <td>45.696322</td>\n      <td>92</td>\n      <td>113.461264</td>\n      <td>30.632114</td>\n    </tr>\n    <tr>\n      <th>4</th>\n      <td>53</td>\n      <td>50.504232</td>\n      <td>92</td>\n      <td>104.461264</td>\n      <td>29.889149</td>\n    </tr>\n  </tbody>\n</table>\n</div>",
            "text/plain": "   HP        MPG  VOL          SP         WT\n0  49  53.700681   89  104.185353  28.762059\n1  55  50.013401   92  105.461264  30.466833\n2  55  50.013401   92  105.461264  30.193597\n3  70  45.696322   92  113.461264  30.632114\n4  53  50.504232   92  104.461264  29.889149"
          },
          "execution_count": 8,
          "metadata": {},
          "output_type": "execute_result"
        }
      ]
    },
    {
      "metadata": {
        "trusted": false
      },
      "cell_type": "code",
      "source": "plt.hist(ass['MPG'])\nplt.xlabel='mpg'",
      "execution_count": 22,
      "outputs": [
        {
          "data": {
            "image/png": "[encoded data removed]",
            "text/plain": "<Figure size 432x288 with 1 Axes>"
          },
          "metadata": {
            "needs_background": "light"
          },
          "output_type": "display_data"
        }
      ]
    },
    {
      "metadata": {},
      "cell_type": "markdown",
      "source": "AS THERE IS NO SYMMETRY IN THE GRAPH SO MPG FROM CARS DATASET DOES NOT FOLLOW NORMAL DISTRIBUTION\n"
    },
    {
      "metadata": {
        "trusted": false
      },
      "cell_type": "code",
      "source": "ass2=pd.read_csv(\"WC_AT.csv\")",
      "execution_count": 12,
      "outputs": []
    },
    {
      "metadata": {
        "trusted": false
      },
      "cell_type": "code",
      "source": "ass2.head()\n",
      "execution_count": 13,
      "outputs": [
        {
          "data": {
            "text/html": "<div>\n<style scoped>\n    .dataframe tbody tr th:only-of-type {\n        vertical-align: middle;\n    }\n\n    .dataframe tbody tr th {\n        vertical-align: top;\n    }\n\n    .dataframe thead th {\n        text-align: right;\n    }\n</style>\n<table border=\"1\" class=\"dataframe\">\n  <thead>\n    <tr style=\"text-align: right;\">\n      <th></th>\n      <th>Waist</th>\n      <th>AT</th>\n    </tr>\n  </thead>\n  <tbody>\n    <tr>\n      <th>0</th>\n      <td>74.75</td>\n      <td>25.72</td>\n    </tr>\n    <tr>\n      <th>1</th>\n      <td>72.60</td>\n      <td>25.89</td>\n    </tr>\n    <tr>\n      <th>2</th>\n      <td>81.80</td>\n      <td>42.60</td>\n    </tr>\n    <tr>\n      <th>3</th>\n      <td>83.95</td>\n      <td>42.80</td>\n    </tr>\n    <tr>\n      <th>4</th>\n      <td>74.65</td>\n      <td>29.84</td>\n    </tr>\n  </tbody>\n</table>\n</div>",
            "text/plain": "   Waist     AT\n0  74.75  25.72\n1  72.60  25.89\n2  81.80  42.60\n3  83.95  42.80\n4  74.65  29.84"
          },
          "execution_count": 13,
          "metadata": {},
          "output_type": "execute_result"
        }
      ]
    },
    {
      "metadata": {
        "trusted": false
      },
      "cell_type": "code",
      "source": "plt.hist(ass2)\nplt.xlabel('Waist')\nplt.ylabel('AT')",
      "execution_count": 21,
      "outputs": [
        {
          "data": {
            "text/plain": "Text(0, 0.5, 'AT')"
          },
          "execution_count": 21,
          "metadata": {},
          "output_type": "execute_result"
        },
        {
          "data": {
            "image/png": "[encoded data removed]",
            "text/plain": "<Figure size 432x288 with 1 Axes>"
          },
          "metadata": {
            "needs_background": "light"
          },
          "output_type": "display_data"
        }
      ]
    },
    {
      "metadata": {},
      "cell_type": "markdown",
      "source": "does not follow normal distribution and has negative kurtosis"
    },
    {
      "metadata": {},
      "cell_type": "markdown",
      "source": "Ans 24)"
    },
    {
      "metadata": {
        "trusted": false
      },
      "cell_type": "code",
      "source": "t_value = (260 - 270)/(90/np.sqrt(18))\nprint('critical value = ', t_value)\nprint('probabilty for average life of no more than 260 days is', np.round(stats.t.cdf(t_value, df=17), 2))\n",
      "execution_count": 31,
      "outputs": [
        {
          "name": "stdout",
          "output_type": "stream",
          "text": "critical value =  -0.4714045207910317\nprobabilty for average life of no more than 260 days is 0.32\n"
        }
      ]
    }
  ],
  "metadata": {
    "kernelspec": {
      "name": "python3",
      "display_name": "Python 3",
      "language": "python"
    },
    "language_info": {
      "name": "python",
      "version": "3.8.5",
      "mimetype": "text/x-python",
      "codemirror_mode": {
        "name": "ipython",
        "version": 3
      },
      "pygments_lexer": "ipython3",
      "nbconvert_exporter": "python",
      "file_extension": ".py"
    },
    "gist": {
      "id": "553e670baa7d525438d7375eea1fc258",
      "data": {
        "description": "basic statistics with python",
        "public": true
      }
    },
    "_draft": {
      "nbviewer_url": "https://gist.github.com/553e670baa7d525438d7375eea1fc258"
    }
  },
  "nbformat": 4,
  "nbformat_minor": 4
}
