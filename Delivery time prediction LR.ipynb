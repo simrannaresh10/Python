{
  "cells": [
    {
      "metadata": {
        "trusted": true
      },
      "cell_type": "code",
      "source": "import pandas as pd\nimport numpy as np",
      "execution_count": 3,
      "outputs": []
    },
    {
      "metadata": {
        "trusted": true
      },
      "cell_type": "code",
      "source": "da=pd.read_csv(\"delivery_time.csv\")",
      "execution_count": 4,
      "outputs": []
    },
    {
      "metadata": {
        "trusted": true
      },
      "cell_type": "code",
      "source": "da.head()",
      "execution_count": 5,
      "outputs": [
        {
          "output_type": "execute_result",
          "execution_count": 5,
          "data": {
            "text/plain": "   Delivery Time  Sorting Time\n0          21.00            10\n1          13.50             4\n2          19.75             6\n3          24.00             9\n4          29.00            10",
            "text/html": "<div>\n<style scoped>\n    .dataframe tbody tr th:only-of-type {\n        vertical-align: middle;\n    }\n\n    .dataframe tbody tr th {\n        vertical-align: top;\n    }\n\n    .dataframe thead th {\n        text-align: right;\n    }\n</style>\n<table border=\"1\" class=\"dataframe\">\n  <thead>\n    <tr style=\"text-align: right;\">\n      <th></th>\n      <th>Delivery Time</th>\n      <th>Sorting Time</th>\n    </tr>\n  </thead>\n  <tbody>\n    <tr>\n      <th>0</th>\n      <td>21.00</td>\n      <td>10</td>\n    </tr>\n    <tr>\n      <th>1</th>\n      <td>13.50</td>\n      <td>4</td>\n    </tr>\n    <tr>\n      <th>2</th>\n      <td>19.75</td>\n      <td>6</td>\n    </tr>\n    <tr>\n      <th>3</th>\n      <td>24.00</td>\n      <td>9</td>\n    </tr>\n    <tr>\n      <th>4</th>\n      <td>29.00</td>\n      <td>10</td>\n    </tr>\n  </tbody>\n</table>\n</div>"
          },
          "metadata": {}
        }
      ]
    },
    {
      "metadata": {
        "trusted": true
      },
      "cell_type": "code",
      "source": "da.info()",
      "execution_count": 6,
      "outputs": [
        {
          "output_type": "stream",
          "text": "<class 'pandas.core.frame.DataFrame'>\nRangeIndex: 21 entries, 0 to 20\nData columns (total 2 columns):\n #   Column         Non-Null Count  Dtype  \n---  ------         --------------  -----  \n 0   Delivery Time  21 non-null     float64\n 1   Sorting Time   21 non-null     int64  \ndtypes: float64(1), int64(1)\nmemory usage: 464.0 bytes\n",
          "name": "stdout"
        }
      ]
    },
    {
      "metadata": {
        "trusted": true
      },
      "cell_type": "code",
      "source": "",
      "execution_count": null,
      "outputs": []
    },
    {
      "metadata": {
        "trusted": true
      },
      "cell_type": "code",
      "source": "da.corr()",
      "execution_count": 7,
      "outputs": [
        {
          "output_type": "execute_result",
          "execution_count": 7,
          "data": {
            "text/plain": "               Delivery Time  Sorting Time\nDelivery Time       1.000000      0.825997\nSorting Time        0.825997      1.000000",
            "text/html": "<div>\n<style scoped>\n    .dataframe tbody tr th:only-of-type {\n        vertical-align: middle;\n    }\n\n    .dataframe tbody tr th {\n        vertical-align: top;\n    }\n\n    .dataframe thead th {\n        text-align: right;\n    }\n</style>\n<table border=\"1\" class=\"dataframe\">\n  <thead>\n    <tr style=\"text-align: right;\">\n      <th></th>\n      <th>Delivery Time</th>\n      <th>Sorting Time</th>\n    </tr>\n  </thead>\n  <tbody>\n    <tr>\n      <th>Delivery Time</th>\n      <td>1.000000</td>\n      <td>0.825997</td>\n    </tr>\n    <tr>\n      <th>Sorting Time</th>\n      <td>0.825997</td>\n      <td>1.000000</td>\n    </tr>\n  </tbody>\n</table>\n</div>"
          },
          "metadata": {}
        }
      ]
    },
    {
      "metadata": {
        "trusted": true
      },
      "cell_type": "code",
      "source": "import seaborn as sns\nsns.displot(da['Delivery Time'])",
      "execution_count": 8,
      "outputs": [
        {
          "output_type": "execute_result",
          "execution_count": 8,
          "data": {
            "text/plain": "<seaborn.axisgrid.FacetGrid at 0x24611cddd30>"
          },
          "metadata": {}
        },
        {
          "output_type": "display_data",
          "data": {
            "text/plain": "<Figure size 360x360 with 1 Axes>",
            "image/png": "[encoded data removed]"
          },
          "metadata": {
            "needs_background": "light"
          }
        }
      ]
    },
    {
      "metadata": {
        "trusted": true
      },
      "cell_type": "code",
      "source": "sns.displot(da['Sorting Time'])",
      "execution_count": 9,
      "outputs": [
        {
          "output_type": "execute_result",
          "execution_count": 9,
          "data": {
            "text/plain": "<seaborn.axisgrid.FacetGrid at 0x246170d5eb0>"
          },
          "metadata": {}
        },
        {
          "output_type": "display_data",
          "data": {
            "text/plain": "<Figure size 360x360 with 1 Axes>",
            "image/png": "[encoded data removed]"
          },
          "metadata": {
            "needs_background": "light"
          }
        }
      ]
    },
    {
      "metadata": {
        "trusted": true
      },
      "cell_type": "code",
      "source": "import statsmodels.formula.api as smf\nda= da.rename(columns={\"Sorting Time\":\"Sorting\"})\nmodel = smf.ols('Q(\"Delivery Time\")~Sorting',data = da).fit()\n",
      "execution_count": 11,
      "outputs": []
    },
    {
      "metadata": {
        "trusted": true
      },
      "cell_type": "code",
      "source": "model.params",
      "execution_count": 12,
      "outputs": [
        {
          "output_type": "execute_result",
          "execution_count": 12,
          "data": {
            "text/plain": "Intercept    6.582734\nSorting      1.649020\ndtype: float64"
          },
          "metadata": {}
        }
      ]
    },
    {
      "metadata": {
        "trusted": true
      },
      "cell_type": "code",
      "source": "print(model.tvalues ,'\\n',model.pvalues)",
      "execution_count": 13,
      "outputs": [
        {
          "output_type": "stream",
          "text": "Intercept    3.823349\nSorting      6.387447\ndtype: float64 \n Intercept    0.001147\nSorting      0.000004\ndtype: float64\n",
          "name": "stdout"
        }
      ]
    },
    {
      "metadata": {
        "trusted": true
      },
      "cell_type": "code",
      "source": "model.rsquared,model.rsquared_adj",
      "execution_count": 15,
      "outputs": [
        {
          "output_type": "execute_result",
          "execution_count": 15,
          "data": {
            "text/plain": "(0.6822714748417231, 0.6655489208860244)"
          },
          "metadata": {}
        }
      ]
    },
    {
      "metadata": {
        "trusted": true
      },
      "cell_type": "code",
      "source": "newdata=da",
      "execution_count": 19,
      "outputs": []
    },
    {
      "metadata": {
        "trusted": true
      },
      "cell_type": "code",
      "source": "pred=pd.DataFrame(newdata,columns=['Sorting'])",
      "execution_count": 22,
      "outputs": []
    },
    {
      "metadata": {
        "trusted": true
      },
      "cell_type": "code",
      "source": "model.predict(pred)",
      "execution_count": 23,
      "outputs": [
        {
          "output_type": "execute_result",
          "execution_count": 23,
          "data": {
            "text/plain": "0     23.072933\n1     13.178814\n2     16.476853\n3     21.423913\n4     23.072933\n5     16.476853\n6     18.125873\n7     11.529794\n8     23.072933\n9     21.423913\n10    19.774893\n11    13.178814\n12    18.125873\n13    11.529794\n14    11.529794\n15    13.178814\n16    16.476853\n17    18.125873\n18     9.880774\n19    18.125873\n20    14.827833\ndtype: float64"
          },
          "metadata": {}
        }
      ]
    }
  ],
  "metadata": {
    "kernelspec": {
      "name": "python3",
      "display_name": "Python 3",
      "language": "python"
    },
    "language_info": {
      "name": "python",
      "version": "3.8.5",
      "mimetype": "text/x-python",
      "codemirror_mode": {
        "name": "ipython",
        "version": 3
      },
      "pygments_lexer": "ipython3",
      "nbconvert_exporter": "python",
      "file_extension": ".py"
    },
    "gist": {
      "id": "",
      "data": {
        "description": "DELIVERY TIME",
        "public": true
      }
    }
  },
  "nbformat": 4,
  "nbformat_minor": 4
}