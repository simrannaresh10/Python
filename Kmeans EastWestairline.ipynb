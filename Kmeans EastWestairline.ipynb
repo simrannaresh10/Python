{
  "cells": [
    {
      "metadata": {
        "trusted": true
      },
      "cell_type": "code",
      "source": "import pandas as pd\nimport numpy as np\nfrom matplotlib import pyplot as plt\nfrom sklearn.cluster import KMeans\nfrom scipy.spatial.distance import cdist",
      "execution_count": 17,
      "outputs": []
    },
    {
      "metadata": {
        "trusted": true
      },
      "cell_type": "code",
      "source": "data=pd.read_csv(\"EastWestAirlines.csv\")",
      "execution_count": 18,
      "outputs": []
    },
    {
      "metadata": {
        "trusted": true
      },
      "cell_type": "code",
      "source": "data\n",
      "execution_count": 19,
      "outputs": [
        {
          "output_type": "execute_result",
          "execution_count": 19,
          "data": {
            "text/plain": "       ID#  Balance  Qual_miles  cc1_miles  cc2_miles  cc3_miles  Bonus_miles  \\\n0        1    28143           0          1          1          1          174   \n1        2    19244           0          1          1          1          215   \n2        3    41354           0          1          1          1         4123   \n3        4    14776           0          1          1          1          500   \n4        5    97752           0          4          1          1        43300   \n...    ...      ...         ...        ...        ...        ...          ...   \n3994  4017    18476           0          1          1          1         8525   \n3995  4018    64385           0          1          1          1          981   \n3996  4019    73597           0          3          1          1        25447   \n3997  4020    54899           0          1          1          1          500   \n3998  4021     3016           0          1          1          1            0   \n\n      Bonus_trans  Flight_miles_12mo  Flight_trans_12  Days_since_enroll  \\\n0               1                  0                0               7000   \n1               2                  0                0               6968   \n2               4                  0                0               7034   \n3               1                  0                0               6952   \n4              26               2077                4               6935   \n...           ...                ...              ...                ...   \n3994            4                200                1               1403   \n3995            5                  0                0               1395   \n3996            8                  0                0               1402   \n3997            1                500                1               1401   \n3998            0                  0                0               1398   \n\n      Award?  \n0          0  \n1          0  \n2          0  \n3          0  \n4          1  \n...      ...  \n3994       1  \n3995       1  \n3996       1  \n3997       0  \n3998       0  \n\n[3999 rows x 12 columns]",
            "text/html": "<div>\n<style scoped>\n    .dataframe tbody tr th:only-of-type {\n        vertical-align: middle;\n    }\n\n    .dataframe tbody tr th {\n        vertical-align: top;\n    }\n\n    .dataframe thead th {\n        text-align: right;\n    }\n</style>\n<table border=\"1\" class=\"dataframe\">\n  <thead>\n    <tr style=\"text-align: right;\">\n      <th></th>\n      <th>ID#</th>\n      <th>Balance</th>\n      <th>Qual_miles</th>\n      <th>cc1_miles</th>\n      <th>cc2_miles</th>\n      <th>cc3_miles</th>\n      <th>Bonus_miles</th>\n      <th>Bonus_trans</th>\n      <th>Flight_miles_12mo</th>\n      <th>Flight_trans_12</th>\n      <th>Days_since_enroll</th>\n      <th>Award?</th>\n    </tr>\n  </thead>\n  <tbody>\n    <tr>\n      <th>0</th>\n      <td>1</td>\n      <td>28143</td>\n      <td>0</td>\n      <td>1</td>\n      <td>1</td>\n      <td>1</td>\n      <td>174</td>\n      <td>1</td>\n      <td>0</td>\n      <td>0</td>\n      <td>7000</td>\n      <td>0</td>\n    </tr>\n    <tr>\n      <th>1</th>\n      <td>2</td>\n      <td>19244</td>\n      <td>0</td>\n      <td>1</td>\n      <td>1</td>\n      <td>1</td>\n      <td>215</td>\n      <td>2</td>\n      <td>0</td>\n      <td>0</td>\n      <td>6968</td>\n      <td>0</td>\n    </tr>\n    <tr>\n      <th>2</th>\n      <td>3</td>\n      <td>41354</td>\n      <td>0</td>\n      <td>1</td>\n      <td>1</td>\n      <td>1</td>\n      <td>4123</td>\n      <td>4</td>\n      <td>0</td>\n      <td>0</td>\n      <td>7034</td>\n      <td>0</td>\n    </tr>\n    <tr>\n      <th>3</th>\n      <td>4</td>\n      <td>14776</td>\n      <td>0</td>\n      <td>1</td>\n      <td>1</td>\n      <td>1</td>\n      <td>500</td>\n      <td>1</td>\n      <td>0</td>\n      <td>0</td>\n      <td>6952</td>\n      <td>0</td>\n    </tr>\n    <tr>\n      <th>4</th>\n      <td>5</td>\n      <td>97752</td>\n      <td>0</td>\n      <td>4</td>\n      <td>1</td>\n      <td>1</td>\n      <td>43300</td>\n      <td>26</td>\n      <td>2077</td>\n      <td>4</td>\n      <td>6935</td>\n      <td>1</td>\n    </tr>\n    <tr>\n      <th>...</th>\n      <td>...</td>\n      <td>...</td>\n      <td>...</td>\n      <td>...</td>\n      <td>...</td>\n      <td>...</td>\n      <td>...</td>\n      <td>...</td>\n      <td>...</td>\n      <td>...</td>\n      <td>...</td>\n      <td>...</td>\n    </tr>\n    <tr>\n      <th>3994</th>\n      <td>4017</td>\n      <td>18476</td>\n      <td>0</td>\n      <td>1</td>\n      <td>1</td>\n      <td>1</td>\n      <td>8525</td>\n      <td>4</td>\n      <td>200</td>\n      <td>1</td>\n      <td>1403</td>\n      <td>1</td>\n    </tr>\n    <tr>\n      <th>3995</th>\n      <td>4018</td>\n      <td>64385</td>\n      <td>0</td>\n      <td>1</td>\n      <td>1</td>\n      <td>1</td>\n      <td>981</td>\n      <td>5</td>\n      <td>0</td>\n      <td>0</td>\n      <td>1395</td>\n      <td>1</td>\n    </tr>\n    <tr>\n      <th>3996</th>\n      <td>4019</td>\n      <td>73597</td>\n      <td>0</td>\n      <td>3</td>\n      <td>1</td>\n      <td>1</td>\n      <td>25447</td>\n      <td>8</td>\n      <td>0</td>\n      <td>0</td>\n      <td>1402</td>\n      <td>1</td>\n    </tr>\n    <tr>\n      <th>3997</th>\n      <td>4020</td>\n      <td>54899</td>\n      <td>0</td>\n      <td>1</td>\n      <td>1</td>\n      <td>1</td>\n      <td>500</td>\n      <td>1</td>\n      <td>500</td>\n      <td>1</td>\n      <td>1401</td>\n      <td>0</td>\n    </tr>\n    <tr>\n      <th>3998</th>\n      <td>4021</td>\n      <td>3016</td>\n      <td>0</td>\n      <td>1</td>\n      <td>1</td>\n      <td>1</td>\n      <td>0</td>\n      <td>0</td>\n      <td>0</td>\n      <td>0</td>\n      <td>1398</td>\n      <td>0</td>\n    </tr>\n  </tbody>\n</table>\n<p>3999 rows × 12 columns</p>\n</div>"
          },
          "metadata": {}
        }
      ]
    },
    {
      "metadata": {
        "trusted": true
      },
      "cell_type": "code",
      "source": "def norm_fucn(i):\n    x=(i-i.min())/(i.max()-i.min())\n    return (x)",
      "execution_count": 20,
      "outputs": []
    },
    {
      "metadata": {
        "trusted": true
      },
      "cell_type": "code",
      "source": "nd=norm_fucn(data.iloc[:,1:])",
      "execution_count": 21,
      "outputs": []
    },
    {
      "metadata": {
        "trusted": true
      },
      "cell_type": "code",
      "source": "nd.head(10)",
      "execution_count": 22,
      "outputs": [
        {
          "output_type": "execute_result",
          "execution_count": 22,
          "data": {
            "text/plain": "    Balance  Qual_miles  cc1_miles  cc2_miles  cc3_miles  Bonus_miles  \\\n0  0.016508         0.0       0.00        0.0        0.0     0.000660   \n1  0.011288         0.0       0.00        0.0        0.0     0.000815   \n2  0.024257         0.0       0.00        0.0        0.0     0.015636   \n3  0.008667         0.0       0.00        0.0        0.0     0.001896   \n4  0.057338         0.0       0.75        0.0        0.0     0.164211   \n5  0.009631         0.0       0.00        0.0        0.0     0.000000   \n6  0.049808         0.0       0.50        0.0        0.0     0.104223   \n7  0.012233         0.0       0.00        0.0        0.0     0.019910   \n8  0.259850         0.0       0.50        0.5        0.0     0.006648   \n9  0.061507         0.0       0.50        0.0        0.0     0.107803   \n\n   Bonus_trans  Flight_miles_12mo  Flight_trans_12  Days_since_enroll  Award?  \n0     0.011628           0.000000         0.000000           0.843742     0.0  \n1     0.023256           0.000000         0.000000           0.839884     0.0  \n2     0.046512           0.000000         0.000000           0.847842     0.0  \n3     0.011628           0.000000         0.000000           0.837955     0.0  \n4     0.302326           0.067398         0.075472           0.835905     1.0  \n5     0.000000           0.000000         0.000000           0.836749     0.0  \n6     0.290698           0.000000         0.000000           0.843019     0.0  \n7     0.046512           0.008112         0.018868           0.836267     1.0  \n8     0.500000           0.124931         0.226415           0.837473     1.0  \n9     0.325581           0.037317         0.056604           0.835423     1.0  ",
            "text/html": "<div>\n<style scoped>\n    .dataframe tbody tr th:only-of-type {\n        vertical-align: middle;\n    }\n\n    .dataframe tbody tr th {\n        vertical-align: top;\n    }\n\n    .dataframe thead th {\n        text-align: right;\n    }\n</style>\n<table border=\"1\" class=\"dataframe\">\n  <thead>\n    <tr style=\"text-align: right;\">\n      <th></th>\n      <th>Balance</th>\n      <th>Qual_miles</th>\n      <th>cc1_miles</th>\n      <th>cc2_miles</th>\n      <th>cc3_miles</th>\n      <th>Bonus_miles</th>\n      <th>Bonus_trans</th>\n      <th>Flight_miles_12mo</th>\n      <th>Flight_trans_12</th>\n      <th>Days_since_enroll</th>\n      <th>Award?</th>\n    </tr>\n  </thead>\n  <tbody>\n    <tr>\n      <th>0</th>\n      <td>0.016508</td>\n      <td>0.0</td>\n      <td>0.00</td>\n      <td>0.0</td>\n      <td>0.0</td>\n      <td>0.000660</td>\n      <td>0.011628</td>\n      <td>0.000000</td>\n      <td>0.000000</td>\n      <td>0.843742</td>\n      <td>0.0</td>\n    </tr>\n    <tr>\n      <th>1</th>\n      <td>0.011288</td>\n      <td>0.0</td>\n      <td>0.00</td>\n      <td>0.0</td>\n      <td>0.0</td>\n      <td>0.000815</td>\n      <td>0.023256</td>\n      <td>0.000000</td>\n      <td>0.000000</td>\n      <td>0.839884</td>\n      <td>0.0</td>\n    </tr>\n    <tr>\n      <th>2</th>\n      <td>0.024257</td>\n      <td>0.0</td>\n      <td>0.00</td>\n      <td>0.0</td>\n      <td>0.0</td>\n      <td>0.015636</td>\n      <td>0.046512</td>\n      <td>0.000000</td>\n      <td>0.000000</td>\n      <td>0.847842</td>\n      <td>0.0</td>\n    </tr>\n    <tr>\n      <th>3</th>\n      <td>0.008667</td>\n      <td>0.0</td>\n      <td>0.00</td>\n      <td>0.0</td>\n      <td>0.0</td>\n      <td>0.001896</td>\n      <td>0.011628</td>\n      <td>0.000000</td>\n      <td>0.000000</td>\n      <td>0.837955</td>\n      <td>0.0</td>\n    </tr>\n    <tr>\n      <th>4</th>\n      <td>0.057338</td>\n      <td>0.0</td>\n      <td>0.75</td>\n      <td>0.0</td>\n      <td>0.0</td>\n      <td>0.164211</td>\n      <td>0.302326</td>\n      <td>0.067398</td>\n      <td>0.075472</td>\n      <td>0.835905</td>\n      <td>1.0</td>\n    </tr>\n    <tr>\n      <th>5</th>\n      <td>0.009631</td>\n      <td>0.0</td>\n      <td>0.00</td>\n      <td>0.0</td>\n      <td>0.0</td>\n      <td>0.000000</td>\n      <td>0.000000</td>\n      <td>0.000000</td>\n      <td>0.000000</td>\n      <td>0.836749</td>\n      <td>0.0</td>\n    </tr>\n    <tr>\n      <th>6</th>\n      <td>0.049808</td>\n      <td>0.0</td>\n      <td>0.50</td>\n      <td>0.0</td>\n      <td>0.0</td>\n      <td>0.104223</td>\n      <td>0.290698</td>\n      <td>0.000000</td>\n      <td>0.000000</td>\n      <td>0.843019</td>\n      <td>0.0</td>\n    </tr>\n    <tr>\n      <th>7</th>\n      <td>0.012233</td>\n      <td>0.0</td>\n      <td>0.00</td>\n      <td>0.0</td>\n      <td>0.0</td>\n      <td>0.019910</td>\n      <td>0.046512</td>\n      <td>0.008112</td>\n      <td>0.018868</td>\n      <td>0.836267</td>\n      <td>1.0</td>\n    </tr>\n    <tr>\n      <th>8</th>\n      <td>0.259850</td>\n      <td>0.0</td>\n      <td>0.50</td>\n      <td>0.5</td>\n      <td>0.0</td>\n      <td>0.006648</td>\n      <td>0.500000</td>\n      <td>0.124931</td>\n      <td>0.226415</td>\n      <td>0.837473</td>\n      <td>1.0</td>\n    </tr>\n    <tr>\n      <th>9</th>\n      <td>0.061507</td>\n      <td>0.0</td>\n      <td>0.50</td>\n      <td>0.0</td>\n      <td>0.0</td>\n      <td>0.107803</td>\n      <td>0.325581</td>\n      <td>0.037317</td>\n      <td>0.056604</td>\n      <td>0.835423</td>\n      <td>1.0</td>\n    </tr>\n  </tbody>\n</table>\n</div>"
          },
          "metadata": {}
        }
      ]
    },
    {
      "metadata": {
        "trusted": true
      },
      "cell_type": "code",
      "source": "#elbow curve\nwcss = []\nfor i in range(1,11):\n    kmeans=KMeans(n_clusters=i,random_state=0)\n    kmeans.fit(nd)\n    wcss.append(kmeans.inertia_)\n   \n   \n    ",
      "execution_count": 23,
      "outputs": []
    },
    {
      "metadata": {
        "trusted": true
      },
      "cell_type": "code",
      "source": "    plt.plot(range(1,11),wcss)\n    plt.title(\"Elbow curve\")\n    plt.xlabel(\"no of clusters\")\n    plt.ylabel(\"wcss\")\n    plt.show() \n    ",
      "execution_count": 24,
      "outputs": [
        {
          "output_type": "display_data",
          "data": {
            "text/plain": "<Figure size 432x288 with 1 Axes>",
            "image/png": "[encoded data removed]"
          },
          "metadata": {
            "needs_background": "light"
          }
        }
      ]
    },
    {
      "metadata": {
        "trusted": true
      },
      "cell_type": "code",
      "source": "model=KMeans(n_clusters=4)\nmodel.fit(nd)",
      "execution_count": 25,
      "outputs": [
        {
          "output_type": "execute_result",
          "execution_count": 25,
          "data": {
            "text/plain": "KMeans(n_clusters=4)"
          },
          "metadata": {}
        }
      ]
    },
    {
      "metadata": {
        "trusted": true
      },
      "cell_type": "code",
      "source": "model.labels_\n",
      "execution_count": 26,
      "outputs": [
        {
          "output_type": "execute_result",
          "execution_count": 26,
          "data": {
            "text/plain": "array([2, 2, 2, ..., 1, 2, 2])"
          },
          "metadata": {}
        }
      ]
    },
    {
      "metadata": {
        "trusted": true
      },
      "cell_type": "code",
      "source": "md=pd.Series(model.labels_)\ndata['Clust']=md",
      "execution_count": 27,
      "outputs": []
    },
    {
      "metadata": {
        "trusted": true,
        "scrolled": true
      },
      "cell_type": "code",
      "source": "data",
      "execution_count": 28,
      "outputs": [
        {
          "output_type": "execute_result",
          "execution_count": 28,
          "data": {
            "text/plain": "       ID#  Balance  Qual_miles  cc1_miles  cc2_miles  cc3_miles  Bonus_miles  \\\n0        1    28143           0          1          1          1          174   \n1        2    19244           0          1          1          1          215   \n2        3    41354           0          1          1          1         4123   \n3        4    14776           0          1          1          1          500   \n4        5    97752           0          4          1          1        43300   \n...    ...      ...         ...        ...        ...        ...          ...   \n3994  4017    18476           0          1          1          1         8525   \n3995  4018    64385           0          1          1          1          981   \n3996  4019    73597           0          3          1          1        25447   \n3997  4020    54899           0          1          1          1          500   \n3998  4021     3016           0          1          1          1            0   \n\n      Bonus_trans  Flight_miles_12mo  Flight_trans_12  Days_since_enroll  \\\n0               1                  0                0               7000   \n1               2                  0                0               6968   \n2               4                  0                0               7034   \n3               1                  0                0               6952   \n4              26               2077                4               6935   \n...           ...                ...              ...                ...   \n3994            4                200                1               1403   \n3995            5                  0                0               1395   \n3996            8                  0                0               1402   \n3997            1                500                1               1401   \n3998            0                  0                0               1398   \n\n      Award?  Clust  \n0          0      2  \n1          0      2  \n2          0      2  \n3          0      2  \n4          1      1  \n...      ...    ...  \n3994       1      3  \n3995       1      3  \n3996       1      1  \n3997       0      2  \n3998       0      2  \n\n[3999 rows x 13 columns]",
            "text/html": "<div>\n<style scoped>\n    .dataframe tbody tr th:only-of-type {\n        vertical-align: middle;\n    }\n\n    .dataframe tbody tr th {\n        vertical-align: top;\n    }\n\n    .dataframe thead th {\n        text-align: right;\n    }\n</style>\n<table border=\"1\" class=\"dataframe\">\n  <thead>\n    <tr style=\"text-align: right;\">\n      <th></th>\n      <th>ID#</th>\n      <th>Balance</th>\n      <th>Qual_miles</th>\n      <th>cc1_miles</th>\n      <th>cc2_miles</th>\n      <th>cc3_miles</th>\n      <th>Bonus_miles</th>\n      <th>Bonus_trans</th>\n      <th>Flight_miles_12mo</th>\n      <th>Flight_trans_12</th>\n      <th>Days_since_enroll</th>\n      <th>Award?</th>\n      <th>Clust</th>\n    </tr>\n  </thead>\n  <tbody>\n    <tr>\n      <th>0</th>\n      <td>1</td>\n      <td>28143</td>\n      <td>0</td>\n      <td>1</td>\n      <td>1</td>\n      <td>1</td>\n      <td>174</td>\n      <td>1</td>\n      <td>0</td>\n      <td>0</td>\n      <td>7000</td>\n      <td>0</td>\n      <td>2</td>\n    </tr>\n    <tr>\n      <th>1</th>\n      <td>2</td>\n      <td>19244</td>\n      <td>0</td>\n      <td>1</td>\n      <td>1</td>\n      <td>1</td>\n      <td>215</td>\n      <td>2</td>\n      <td>0</td>\n      <td>0</td>\n      <td>6968</td>\n      <td>0</td>\n      <td>2</td>\n    </tr>\n    <tr>\n      <th>2</th>\n      <td>3</td>\n      <td>41354</td>\n      <td>0</td>\n      <td>1</td>\n      <td>1</td>\n      <td>1</td>\n      <td>4123</td>\n      <td>4</td>\n      <td>0</td>\n      <td>0</td>\n      <td>7034</td>\n      <td>0</td>\n      <td>2</td>\n    </tr>\n    <tr>\n      <th>3</th>\n      <td>4</td>\n      <td>14776</td>\n      <td>0</td>\n      <td>1</td>\n      <td>1</td>\n      <td>1</td>\n      <td>500</td>\n      <td>1</td>\n      <td>0</td>\n      <td>0</td>\n      <td>6952</td>\n      <td>0</td>\n      <td>2</td>\n    </tr>\n    <tr>\n      <th>4</th>\n      <td>5</td>\n      <td>97752</td>\n      <td>0</td>\n      <td>4</td>\n      <td>1</td>\n      <td>1</td>\n      <td>43300</td>\n      <td>26</td>\n      <td>2077</td>\n      <td>4</td>\n      <td>6935</td>\n      <td>1</td>\n      <td>1</td>\n    </tr>\n    <tr>\n      <th>...</th>\n      <td>...</td>\n      <td>...</td>\n      <td>...</td>\n      <td>...</td>\n      <td>...</td>\n      <td>...</td>\n      <td>...</td>\n      <td>...</td>\n      <td>...</td>\n      <td>...</td>\n      <td>...</td>\n      <td>...</td>\n      <td>...</td>\n    </tr>\n    <tr>\n      <th>3994</th>\n      <td>4017</td>\n      <td>18476</td>\n      <td>0</td>\n      <td>1</td>\n      <td>1</td>\n      <td>1</td>\n      <td>8525</td>\n      <td>4</td>\n      <td>200</td>\n      <td>1</td>\n      <td>1403</td>\n      <td>1</td>\n      <td>3</td>\n    </tr>\n    <tr>\n      <th>3995</th>\n      <td>4018</td>\n      <td>64385</td>\n      <td>0</td>\n      <td>1</td>\n      <td>1</td>\n      <td>1</td>\n      <td>981</td>\n      <td>5</td>\n      <td>0</td>\n      <td>0</td>\n      <td>1395</td>\n      <td>1</td>\n      <td>3</td>\n    </tr>\n    <tr>\n      <th>3996</th>\n      <td>4019</td>\n      <td>73597</td>\n      <td>0</td>\n      <td>3</td>\n      <td>1</td>\n      <td>1</td>\n      <td>25447</td>\n      <td>8</td>\n      <td>0</td>\n      <td>0</td>\n      <td>1402</td>\n      <td>1</td>\n      <td>1</td>\n    </tr>\n    <tr>\n      <th>3997</th>\n      <td>4020</td>\n      <td>54899</td>\n      <td>0</td>\n      <td>1</td>\n      <td>1</td>\n      <td>1</td>\n      <td>500</td>\n      <td>1</td>\n      <td>500</td>\n      <td>1</td>\n      <td>1401</td>\n      <td>0</td>\n      <td>2</td>\n    </tr>\n    <tr>\n      <th>3998</th>\n      <td>4021</td>\n      <td>3016</td>\n      <td>0</td>\n      <td>1</td>\n      <td>1</td>\n      <td>1</td>\n      <td>0</td>\n      <td>0</td>\n      <td>0</td>\n      <td>0</td>\n      <td>1398</td>\n      <td>0</td>\n      <td>2</td>\n    </tr>\n  </tbody>\n</table>\n<p>3999 rows × 13 columns</p>\n</div>"
          },
          "metadata": {}
        }
      ]
    },
    {
      "metadata": {
        "trusted": true
      },
      "cell_type": "code",
      "source": "#scree plot \n    TWSS = []\n    ",
      "execution_count": 32,
      "outputs": []
    },
    {
      "metadata": {
        "trusted": true
      },
      "cell_type": "code",
      "source": "for j in range(i):\n    wcss.append(sum(cdist(nd.iloc[kmeans.labels_==j,:],kmeans.cluster_centers_[j].reshape(1,nd.shape[1]),\"euclidean\")))\n    TWSS.append(sum(wcss))\n\n\n\n",
      "execution_count": 34,
      "outputs": []
    },
    {
      "metadata": {
        "trusted": true
      },
      "cell_type": "code",
      "source": "plt.plot(range(1,11),TWSS, 'ro-')\nplt.xlabel(\"No_of_Clusters\")\nplt.ylabel(\"total_within_SS\")\nplt.xticks(range(1,11))\n        ",
      "execution_count": 42,
      "outputs": [
        {
          "output_type": "execute_result",
          "execution_count": 42,
          "data": {
            "text/plain": "([<matplotlib.axis.XTick at 0x213bc10d430>,\n  <matplotlib.axis.XTick at 0x213bc10d4f0>,\n  <matplotlib.axis.XTick at 0x213bc134e20>,\n  <matplotlib.axis.XTick at 0x213bc1228e0>,\n  <matplotlib.axis.XTick at 0x213bc122700>,\n  <matplotlib.axis.XTick at 0x213bbef7a60>,\n  <matplotlib.axis.XTick at 0x213bbef7310>,\n  <matplotlib.axis.XTick at 0x213bbef7a30>,\n  <matplotlib.axis.XTick at 0x213bbe7bf40>,\n  <matplotlib.axis.XTick at 0x213bbe7b730>],\n [Text(0, 0, ''),\n  Text(0, 0, ''),\n  Text(0, 0, ''),\n  Text(0, 0, ''),\n  Text(0, 0, ''),\n  Text(0, 0, ''),\n  Text(0, 0, ''),\n  Text(0, 0, ''),\n  Text(0, 0, ''),\n  Text(0, 0, '')])"
          },
          "metadata": {}
        },
        {
          "output_type": "display_data",
          "data": {
            "text/plain": "<Figure size 432x288 with 1 Axes>",
            "image/png": "[encoded data removed]"
          },
          "metadata": {
            "needs_background": "light"
          }
        }
      ]
    },
    {
      "metadata": {
        "trusted": true
      },
      "cell_type": "code",
      "source": "model=KMeans(n_clusters=5) \nmodel.fit(nd)\n\n",
      "execution_count": 45,
      "outputs": [
        {
          "output_type": "execute_result",
          "execution_count": 45,
          "data": {
            "text/plain": "KMeans(n_clusters=5)"
          },
          "metadata": {}
        }
      ]
    },
    {
      "metadata": {
        "trusted": true
      },
      "cell_type": "code",
      "source": "model.labels_\nmd=pd.Series(model.labels_)  ",
      "execution_count": 47,
      "outputs": []
    },
    {
      "metadata": {
        "trusted": true
      },
      "cell_type": "code",
      "source": "data['clust']=md\nmd.head()\n",
      "execution_count": 67,
      "outputs": [
        {
          "output_type": "execute_result",
          "execution_count": 67,
          "data": {
            "text/plain": "0    0\n1    0\n2    0\n3    0\n4    1\ndtype: int32"
          },
          "metadata": {}
        }
      ]
    },
    {
      "metadata": {
        "trusted": true
      },
      "cell_type": "code",
      "source": "\ndata = data.iloc[:,[7,0,1,2,3,4,5,6]]\n\n\n",
      "execution_count": 68,
      "outputs": []
    },
    {
      "metadata": {
        "trusted": true
      },
      "cell_type": "code",
      "source": "data.iloc[:,1:7].groupby(md).mean()\n",
      "execution_count": 70,
      "outputs": [
        {
          "output_type": "execute_result",
          "execution_count": 70,
          "data": {
            "text/plain": "         Balance  Qual_miles  cc1_miles  cc2_miles  cc3_miles   Bonus_miles\n0   49921.633641   89.903226   1.122120   1.019585   1.001152   3467.074885\n1  108317.387376  198.336634   3.915842   1.001238   1.025990  45609.657178\n2   33097.301357   94.131783   1.070736   1.016473   1.006783   3244.520349\n3  118297.325243   73.467638   3.584142   1.001618   1.022654  31384.393204\n4   83529.153046  290.453195   1.156018   1.032689   1.008915   8850.395245",
            "text/html": "<div>\n<style scoped>\n    .dataframe tbody tr th:only-of-type {\n        vertical-align: middle;\n    }\n\n    .dataframe tbody tr th {\n        vertical-align: top;\n    }\n\n    .dataframe thead th {\n        text-align: right;\n    }\n</style>\n<table border=\"1\" class=\"dataframe\">\n  <thead>\n    <tr style=\"text-align: right;\">\n      <th></th>\n      <th>Balance</th>\n      <th>Qual_miles</th>\n      <th>cc1_miles</th>\n      <th>cc2_miles</th>\n      <th>cc3_miles</th>\n      <th>Bonus_miles</th>\n    </tr>\n  </thead>\n  <tbody>\n    <tr>\n      <th>0</th>\n      <td>49921.633641</td>\n      <td>89.903226</td>\n      <td>1.122120</td>\n      <td>1.019585</td>\n      <td>1.001152</td>\n      <td>3467.074885</td>\n    </tr>\n    <tr>\n      <th>1</th>\n      <td>108317.387376</td>\n      <td>198.336634</td>\n      <td>3.915842</td>\n      <td>1.001238</td>\n      <td>1.025990</td>\n      <td>45609.657178</td>\n    </tr>\n    <tr>\n      <th>2</th>\n      <td>33097.301357</td>\n      <td>94.131783</td>\n      <td>1.070736</td>\n      <td>1.016473</td>\n      <td>1.006783</td>\n      <td>3244.520349</td>\n    </tr>\n    <tr>\n      <th>3</th>\n      <td>118297.325243</td>\n      <td>73.467638</td>\n      <td>3.584142</td>\n      <td>1.001618</td>\n      <td>1.022654</td>\n      <td>31384.393204</td>\n    </tr>\n    <tr>\n      <th>4</th>\n      <td>83529.153046</td>\n      <td>290.453195</td>\n      <td>1.156018</td>\n      <td>1.032689</td>\n      <td>1.008915</td>\n      <td>8850.395245</td>\n    </tr>\n  </tbody>\n</table>\n</div>"
          },
          "metadata": {}
        }
      ]
    }
  ],
  "metadata": {
    "kernelspec": {
      "name": "python3",
      "display_name": "Python 3",
      "language": "python"
    },
    "language_info": {
      "name": "python",
      "version": "3.8.5",
      "mimetype": "text/x-python",
      "codemirror_mode": {
        "name": "ipython",
        "version": 3
      },
      "pygments_lexer": "ipython3",
      "nbconvert_exporter": "python",
      "file_extension": ".py"
    },
    "gist": {
      "id": "",
      "data": {
        "description": "kmeans airline.ipynb",
        "public": true
      }
    }
  },
  "nbformat": 4,
  "nbformat_minor": 4
}