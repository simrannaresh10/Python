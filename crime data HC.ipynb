{
  "cells": [
    {
      "metadata": {
        "trusted": true
      },
      "cell_type": "code",
      "source": "import scipy.cluster.hierarchy as sch\nfrom sklearn.cluster import AgglomerativeClustering\nimport pandas as pd\nimport numpy as np\nfrom matplotlib import pyplot as plt\nimport seaborn as sns",
      "execution_count": 5,
      "outputs": []
    },
    {
      "metadata": {
        "trusted": true
      },
      "cell_type": "code",
      "source": "data=pd.read_csv(\"crime_data.csv\")",
      "execution_count": 6,
      "outputs": []
    },
    {
      "metadata": {
        "trusted": true
      },
      "cell_type": "code",
      "source": "data.head()",
      "execution_count": 7,
      "outputs": [
        {
          "output_type": "execute_result",
          "execution_count": 7,
          "data": {
            "text/plain": "   Unnamed: 0  Murder  Assault  UrbanPop  Rape\n0     Alabama    13.2      236        58  21.2\n1      Alaska    10.0      263        48  44.5\n2     Arizona     8.1      294        80  31.0\n3    Arkansas     8.8      190        50  19.5\n4  California     9.0      276        91  40.6",
            "text/html": "<div>\n<style scoped>\n    .dataframe tbody tr th:only-of-type {\n        vertical-align: middle;\n    }\n\n    .dataframe tbody tr th {\n        vertical-align: top;\n    }\n\n    .dataframe thead th {\n        text-align: right;\n    }\n</style>\n<table border=\"1\" class=\"dataframe\">\n  <thead>\n    <tr style=\"text-align: right;\">\n      <th></th>\n      <th>Unnamed: 0</th>\n      <th>Murder</th>\n      <th>Assault</th>\n      <th>UrbanPop</th>\n      <th>Rape</th>\n    </tr>\n  </thead>\n  <tbody>\n    <tr>\n      <th>0</th>\n      <td>Alabama</td>\n      <td>13.2</td>\n      <td>236</td>\n      <td>58</td>\n      <td>21.2</td>\n    </tr>\n    <tr>\n      <th>1</th>\n      <td>Alaska</td>\n      <td>10.0</td>\n      <td>263</td>\n      <td>48</td>\n      <td>44.5</td>\n    </tr>\n    <tr>\n      <th>2</th>\n      <td>Arizona</td>\n      <td>8.1</td>\n      <td>294</td>\n      <td>80</td>\n      <td>31.0</td>\n    </tr>\n    <tr>\n      <th>3</th>\n      <td>Arkansas</td>\n      <td>8.8</td>\n      <td>190</td>\n      <td>50</td>\n      <td>19.5</td>\n    </tr>\n    <tr>\n      <th>4</th>\n      <td>California</td>\n      <td>9.0</td>\n      <td>276</td>\n      <td>91</td>\n      <td>40.6</td>\n    </tr>\n  </tbody>\n</table>\n</div>"
          },
          "metadata": {}
        }
      ]
    },
    {
      "metadata": {
        "trusted": true
      },
      "cell_type": "code",
      "source": "def norm_fucn(i):\n    x=(i-i.min())/(i.max()-i.min())\n    return (x)",
      "execution_count": 8,
      "outputs": []
    },
    {
      "metadata": {
        "trusted": true
      },
      "cell_type": "code",
      "source": "nd=norm_fucn(data.iloc[:,1:])",
      "execution_count": 9,
      "outputs": []
    },
    {
      "metadata": {
        "trusted": true
      },
      "cell_type": "code",
      "source": "nd",
      "execution_count": 10,
      "outputs": [
        {
          "output_type": "execute_result",
          "execution_count": 10,
          "data": {
            "text/plain": "      Murder   Assault  UrbanPop      Rape\n0   0.746988  0.654110  0.440678  0.359173\n1   0.554217  0.746575  0.271186  0.961240\n2   0.439759  0.852740  0.813559  0.612403\n3   0.481928  0.496575  0.305085  0.315245\n4   0.493976  0.791096  1.000000  0.860465\n5   0.427711  0.544521  0.779661  0.811370\n6   0.150602  0.222603  0.762712  0.098191\n7   0.307229  0.660959  0.677966  0.219638\n8   0.879518  0.993151  0.813559  0.635659\n9   1.000000  0.568493  0.474576  0.478036\n10  0.271084  0.003425  0.864407  0.333333\n11  0.108434  0.256849  0.372881  0.178295\n12  0.578313  0.698630  0.864407  0.431525\n13  0.385542  0.232877  0.559322  0.354005\n14  0.084337  0.037671  0.423729  0.103359\n15  0.313253  0.239726  0.576271  0.276486\n16  0.536145  0.219178  0.338983  0.232558\n17  0.879518  0.698630  0.576271  0.385013\n18  0.078313  0.130137  0.322034  0.012920\n19  0.632530  0.873288  0.593220  0.529716\n20  0.216867  0.356164  0.898305  0.232558\n21  0.680723  0.719178  0.711864  0.718346\n22  0.114458  0.092466  0.576271  0.196382\n23  0.921687  0.732877  0.203390  0.253230\n24  0.493976  0.455479  0.644068  0.540052\n25  0.313253  0.219178  0.355932  0.235142\n26  0.210843  0.195205  0.508475  0.237726\n27  0.686747  0.708904  0.830508  1.000000\n28  0.078313  0.041096  0.406780  0.056848\n29  0.397590  0.390411  0.966102  0.297158\n30  0.638554  0.821918  0.644068  0.640827\n31  0.620482  0.715753  0.915254  0.485788\n32  0.734940  1.000000  0.220339  0.227390\n33  0.000000  0.000000  0.203390  0.000000\n34  0.391566  0.256849  0.728814  0.364341\n35  0.349398  0.363014  0.610169  0.328165\n36  0.246988  0.390411  0.593220  0.568475\n37  0.331325  0.208904  0.677966  0.196382\n38  0.156627  0.441781  0.932203  0.025840\n39  0.819277  0.801370  0.271186  0.392765\n40  0.180723  0.140411  0.220339  0.142119\n41  0.746988  0.489726  0.457627  0.506460\n42  0.716867  0.534247  0.813559  0.470284\n43  0.144578  0.256849  0.813559  0.403101\n44  0.084337  0.010274  0.000000  0.100775\n45  0.463855  0.380137  0.525424  0.346253\n46  0.192771  0.342466  0.694915  0.488372\n47  0.295181  0.123288  0.118644  0.051680\n48  0.108434  0.027397  0.576271  0.090439\n49  0.361446  0.397260  0.474576  0.214470",
            "text/html": "<div>\n<style scoped>\n    .dataframe tbody tr th:only-of-type {\n        vertical-align: middle;\n    }\n\n    .dataframe tbody tr th {\n        vertical-align: top;\n    }\n\n    .dataframe thead th {\n        text-align: right;\n    }\n</style>\n<table border=\"1\" class=\"dataframe\">\n  <thead>\n    <tr style=\"text-align: right;\">\n      <th></th>\n      <th>Murder</th>\n      <th>Assault</th>\n      <th>UrbanPop</th>\n      <th>Rape</th>\n    </tr>\n  </thead>\n  <tbody>\n    <tr>\n      <th>0</th>\n      <td>0.746988</td>\n      <td>0.654110</td>\n      <td>0.440678</td>\n      <td>0.359173</td>\n    </tr>\n    <tr>\n      <th>1</th>\n      <td>0.554217</td>\n      <td>0.746575</td>\n      <td>0.271186</td>\n      <td>0.961240</td>\n    </tr>\n    <tr>\n      <th>2</th>\n      <td>0.439759</td>\n      <td>0.852740</td>\n      <td>0.813559</td>\n      <td>0.612403</td>\n    </tr>\n    <tr>\n      <th>3</th>\n      <td>0.481928</td>\n      <td>0.496575</td>\n      <td>0.305085</td>\n      <td>0.315245</td>\n    </tr>\n    <tr>\n      <th>4</th>\n      <td>0.493976</td>\n      <td>0.791096</td>\n      <td>1.000000</td>\n      <td>0.860465</td>\n    </tr>\n    <tr>\n      <th>5</th>\n      <td>0.427711</td>\n      <td>0.544521</td>\n      <td>0.779661</td>\n      <td>0.811370</td>\n    </tr>\n    <tr>\n      <th>6</th>\n      <td>0.150602</td>\n      <td>0.222603</td>\n      <td>0.762712</td>\n      <td>0.098191</td>\n    </tr>\n    <tr>\n      <th>7</th>\n      <td>0.307229</td>\n      <td>0.660959</td>\n      <td>0.677966</td>\n      <td>0.219638</td>\n    </tr>\n    <tr>\n      <th>8</th>\n      <td>0.879518</td>\n      <td>0.993151</td>\n      <td>0.813559</td>\n      <td>0.635659</td>\n    </tr>\n    <tr>\n      <th>9</th>\n      <td>1.000000</td>\n      <td>0.568493</td>\n      <td>0.474576</td>\n      <td>0.478036</td>\n    </tr>\n    <tr>\n      <th>10</th>\n      <td>0.271084</td>\n      <td>0.003425</td>\n      <td>0.864407</td>\n      <td>0.333333</td>\n    </tr>\n    <tr>\n      <th>11</th>\n      <td>0.108434</td>\n      <td>0.256849</td>\n      <td>0.372881</td>\n      <td>0.178295</td>\n    </tr>\n    <tr>\n      <th>12</th>\n      <td>0.578313</td>\n      <td>0.698630</td>\n      <td>0.864407</td>\n      <td>0.431525</td>\n    </tr>\n    <tr>\n      <th>13</th>\n      <td>0.385542</td>\n      <td>0.232877</td>\n      <td>0.559322</td>\n      <td>0.354005</td>\n    </tr>\n    <tr>\n      <th>14</th>\n      <td>0.084337</td>\n      <td>0.037671</td>\n      <td>0.423729</td>\n      <td>0.103359</td>\n    </tr>\n    <tr>\n      <th>15</th>\n      <td>0.313253</td>\n      <td>0.239726</td>\n      <td>0.576271</td>\n      <td>0.276486</td>\n    </tr>\n    <tr>\n      <th>16</th>\n      <td>0.536145</td>\n      <td>0.219178</td>\n      <td>0.338983</td>\n      <td>0.232558</td>\n    </tr>\n    <tr>\n      <th>17</th>\n      <td>0.879518</td>\n      <td>0.698630</td>\n      <td>0.576271</td>\n      <td>0.385013</td>\n    </tr>\n    <tr>\n      <th>18</th>\n      <td>0.078313</td>\n      <td>0.130137</td>\n      <td>0.322034</td>\n      <td>0.012920</td>\n    </tr>\n    <tr>\n      <th>19</th>\n      <td>0.632530</td>\n      <td>0.873288</td>\n      <td>0.593220</td>\n      <td>0.529716</td>\n    </tr>\n    <tr>\n      <th>20</th>\n      <td>0.216867</td>\n      <td>0.356164</td>\n      <td>0.898305</td>\n      <td>0.232558</td>\n    </tr>\n    <tr>\n      <th>21</th>\n      <td>0.680723</td>\n      <td>0.719178</td>\n      <td>0.711864</td>\n      <td>0.718346</td>\n    </tr>\n    <tr>\n      <th>22</th>\n      <td>0.114458</td>\n      <td>0.092466</td>\n      <td>0.576271</td>\n      <td>0.196382</td>\n    </tr>\n    <tr>\n      <th>23</th>\n      <td>0.921687</td>\n      <td>0.732877</td>\n      <td>0.203390</td>\n      <td>0.253230</td>\n    </tr>\n    <tr>\n      <th>24</th>\n      <td>0.493976</td>\n      <td>0.455479</td>\n      <td>0.644068</td>\n      <td>0.540052</td>\n    </tr>\n    <tr>\n      <th>25</th>\n      <td>0.313253</td>\n      <td>0.219178</td>\n      <td>0.355932</td>\n      <td>0.235142</td>\n    </tr>\n    <tr>\n      <th>26</th>\n      <td>0.210843</td>\n      <td>0.195205</td>\n      <td>0.508475</td>\n      <td>0.237726</td>\n    </tr>\n    <tr>\n      <th>27</th>\n      <td>0.686747</td>\n      <td>0.708904</td>\n      <td>0.830508</td>\n      <td>1.000000</td>\n    </tr>\n    <tr>\n      <th>28</th>\n      <td>0.078313</td>\n      <td>0.041096</td>\n      <td>0.406780</td>\n      <td>0.056848</td>\n    </tr>\n    <tr>\n      <th>29</th>\n      <td>0.397590</td>\n      <td>0.390411</td>\n      <td>0.966102</td>\n      <td>0.297158</td>\n    </tr>\n    <tr>\n      <th>30</th>\n      <td>0.638554</td>\n      <td>0.821918</td>\n      <td>0.644068</td>\n      <td>0.640827</td>\n    </tr>\n    <tr>\n      <th>31</th>\n      <td>0.620482</td>\n      <td>0.715753</td>\n      <td>0.915254</td>\n      <td>0.485788</td>\n    </tr>\n    <tr>\n      <th>32</th>\n      <td>0.734940</td>\n      <td>1.000000</td>\n      <td>0.220339</td>\n      <td>0.227390</td>\n    </tr>\n    <tr>\n      <th>33</th>\n      <td>0.000000</td>\n      <td>0.000000</td>\n      <td>0.203390</td>\n      <td>0.000000</td>\n    </tr>\n    <tr>\n      <th>34</th>\n      <td>0.391566</td>\n      <td>0.256849</td>\n      <td>0.728814</td>\n      <td>0.364341</td>\n    </tr>\n    <tr>\n      <th>35</th>\n      <td>0.349398</td>\n      <td>0.363014</td>\n      <td>0.610169</td>\n      <td>0.328165</td>\n    </tr>\n    <tr>\n      <th>36</th>\n      <td>0.246988</td>\n      <td>0.390411</td>\n      <td>0.593220</td>\n      <td>0.568475</td>\n    </tr>\n    <tr>\n      <th>37</th>\n      <td>0.331325</td>\n      <td>0.208904</td>\n      <td>0.677966</td>\n      <td>0.196382</td>\n    </tr>\n    <tr>\n      <th>38</th>\n      <td>0.156627</td>\n      <td>0.441781</td>\n      <td>0.932203</td>\n      <td>0.025840</td>\n    </tr>\n    <tr>\n      <th>39</th>\n      <td>0.819277</td>\n      <td>0.801370</td>\n      <td>0.271186</td>\n      <td>0.392765</td>\n    </tr>\n    <tr>\n      <th>40</th>\n      <td>0.180723</td>\n      <td>0.140411</td>\n      <td>0.220339</td>\n      <td>0.142119</td>\n    </tr>\n    <tr>\n      <th>41</th>\n      <td>0.746988</td>\n      <td>0.489726</td>\n      <td>0.457627</td>\n      <td>0.506460</td>\n    </tr>\n    <tr>\n      <th>42</th>\n      <td>0.716867</td>\n      <td>0.534247</td>\n      <td>0.813559</td>\n      <td>0.470284</td>\n    </tr>\n    <tr>\n      <th>43</th>\n      <td>0.144578</td>\n      <td>0.256849</td>\n      <td>0.813559</td>\n      <td>0.403101</td>\n    </tr>\n    <tr>\n      <th>44</th>\n      <td>0.084337</td>\n      <td>0.010274</td>\n      <td>0.000000</td>\n      <td>0.100775</td>\n    </tr>\n    <tr>\n      <th>45</th>\n      <td>0.463855</td>\n      <td>0.380137</td>\n      <td>0.525424</td>\n      <td>0.346253</td>\n    </tr>\n    <tr>\n      <th>46</th>\n      <td>0.192771</td>\n      <td>0.342466</td>\n      <td>0.694915</td>\n      <td>0.488372</td>\n    </tr>\n    <tr>\n      <th>47</th>\n      <td>0.295181</td>\n      <td>0.123288</td>\n      <td>0.118644</td>\n      <td>0.051680</td>\n    </tr>\n    <tr>\n      <th>48</th>\n      <td>0.108434</td>\n      <td>0.027397</td>\n      <td>0.576271</td>\n      <td>0.090439</td>\n    </tr>\n    <tr>\n      <th>49</th>\n      <td>0.361446</td>\n      <td>0.397260</td>\n      <td>0.474576</td>\n      <td>0.214470</td>\n    </tr>\n  </tbody>\n</table>\n</div>"
          },
          "metadata": {}
        }
      ]
    },
    {
      "metadata": {
        "trusted": true
      },
      "cell_type": "code",
      "source": "dendrogram = sch.dendrogram(sch.linkage(nd, method='single'))",
      "execution_count": 11,
      "outputs": [
        {
          "output_type": "display_data",
          "data": {
            "text/plain": "<Figure size 432x288 with 1 Axes>",
            "image/png": "[encoded data removed]"
          },
          "metadata": {
            "needs_background": "light"
          }
        }
      ]
    },
    {
      "metadata": {
        "trusted": true
      },
      "cell_type": "code",
      "source": "hc=AgglomerativeClustering(n_clusters=4,affinity=\"euclidean\",linkage=\"single\")",
      "execution_count": 32,
      "outputs": []
    },
    {
      "metadata": {
        "trusted": true
      },
      "cell_type": "code",
      "source": "hc",
      "execution_count": 33,
      "outputs": [
        {
          "output_type": "execute_result",
          "execution_count": 33,
          "data": {
            "text/plain": "AgglomerativeClustering(linkage='single', n_clusters=4)"
          },
          "metadata": {}
        }
      ]
    },
    {
      "metadata": {
        "trusted": true
      },
      "cell_type": "code",
      "source": "yhc = hc.fit_predict(nd)\nClusters=pd.DataFrame(yhc,columns=['Clusters'])",
      "execution_count": 34,
      "outputs": []
    },
    {
      "metadata": {
        "trusted": true
      },
      "cell_type": "code",
      "source": "data['h_clusterid']=hc.labels_\ndata",
      "execution_count": 35,
      "outputs": [
        {
          "output_type": "execute_result",
          "execution_count": 35,
          "data": {
            "text/plain": "        Unnamed: 0  Murder  Assault  UrbanPop  Rape  h_clusterid\n0          Alabama    13.2      236        58  21.2            0\n1           Alaska    10.0      263        48  44.5            3\n2          Arizona     8.1      294        80  31.0            0\n3         Arkansas     8.8      190        50  19.5            0\n4       California     9.0      276        91  40.6            0\n5         Colorado     7.9      204        78  38.7            0\n6      Connecticut     3.3      110        77  11.1            0\n7         Delaware     5.9      238        72  15.8            1\n8          Florida    15.4      335        80  31.9            2\n9          Georgia    17.4      211        60  25.8            0\n10          Hawaii     5.3       46        83  20.2            0\n11           Idaho     2.6      120        54  14.2            0\n12        Illinois    10.4      249        83  24.0            0\n13         Indiana     7.2      113        65  21.0            0\n14            Iowa     2.2       56        57  11.3            0\n15          Kansas     6.0      115        66  18.0            0\n16        Kentucky     9.7      109        52  16.3            0\n17       Louisiana    15.4      249        66  22.2            0\n18           Maine     2.1       83        51   7.8            0\n19        Maryland    11.3      300        67  27.8            0\n20   Massachusetts     4.4      149        85  16.3            0\n21        Michigan    12.1      255        74  35.1            0\n22       Minnesota     2.7       72        66  14.9            0\n23     Mississippi    16.1      259        44  17.1            0\n24        Missouri     9.0      178        70  28.2            0\n25         Montana     6.0      109        53  16.4            0\n26        Nebraska     4.3      102        62  16.5            0\n27          Nevada    12.2      252        81  46.0            0\n28   New Hampshire     2.1       57        56   9.5            0\n29      New Jersey     7.4      159        89  18.8            0\n30      New Mexico    11.4      285        70  32.1            0\n31        New York    11.1      254        86  26.1            0\n32  North Carolina    13.0      337        45  16.1            0\n33    North Dakota     0.8       45        44   7.3            0\n34            Ohio     7.3      120        75  21.4            0\n35        Oklahoma     6.6      151        68  20.0            0\n36          Oregon     4.9      159        67  29.3            0\n37    Pennsylvania     6.3      106        72  14.9            0\n38    Rhode Island     3.4      174        87   8.3            0\n39  South Carolina    14.4      279        48  22.5            0\n40    South Dakota     3.8       86        45  12.8            0\n41       Tennessee    13.2      188        59  26.9            0\n42           Texas    12.7      201        80  25.5            0\n43            Utah     3.2      120        80  22.9            0\n44         Vermont     2.2       48        32  11.2            0\n45        Virginia     8.5      156        63  20.7            0\n46      Washington     4.0      145        73  26.2            0\n47   West Virginia     5.7       81        39   9.3            0\n48       Wisconsin     2.6       53        66  10.8            0\n49         Wyoming     6.8      161        60  15.6            0",
            "text/html": "<div>\n<style scoped>\n    .dataframe tbody tr th:only-of-type {\n        vertical-align: middle;\n    }\n\n    .dataframe tbody tr th {\n        vertical-align: top;\n    }\n\n    .dataframe thead th {\n        text-align: right;\n    }\n</style>\n<table border=\"1\" class=\"dataframe\">\n  <thead>\n    <tr style=\"text-align: right;\">\n      <th></th>\n      <th>Unnamed: 0</th>\n      <th>Murder</th>\n      <th>Assault</th>\n      <th>UrbanPop</th>\n      <th>Rape</th>\n      <th>h_clusterid</th>\n    </tr>\n  </thead>\n  <tbody>\n    <tr>\n      <th>0</th>\n      <td>Alabama</td>\n      <td>13.2</td>\n      <td>236</td>\n      <td>58</td>\n      <td>21.2</td>\n      <td>0</td>\n    </tr>\n    <tr>\n      <th>1</th>\n      <td>Alaska</td>\n      <td>10.0</td>\n      <td>263</td>\n      <td>48</td>\n      <td>44.5</td>\n      <td>3</td>\n    </tr>\n    <tr>\n      <th>2</th>\n      <td>Arizona</td>\n      <td>8.1</td>\n      <td>294</td>\n      <td>80</td>\n      <td>31.0</td>\n      <td>0</td>\n    </tr>\n    <tr>\n      <th>3</th>\n      <td>Arkansas</td>\n      <td>8.8</td>\n      <td>190</td>\n      <td>50</td>\n      <td>19.5</td>\n      <td>0</td>\n    </tr>\n    <tr>\n      <th>4</th>\n      <td>California</td>\n      <td>9.0</td>\n      <td>276</td>\n      <td>91</td>\n      <td>40.6</td>\n      <td>0</td>\n    </tr>\n    <tr>\n      <th>5</th>\n      <td>Colorado</td>\n      <td>7.9</td>\n      <td>204</td>\n      <td>78</td>\n      <td>38.7</td>\n      <td>0</td>\n    </tr>\n    <tr>\n      <th>6</th>\n      <td>Connecticut</td>\n      <td>3.3</td>\n      <td>110</td>\n      <td>77</td>\n      <td>11.1</td>\n      <td>0</td>\n    </tr>\n    <tr>\n      <th>7</th>\n      <td>Delaware</td>\n      <td>5.9</td>\n      <td>238</td>\n      <td>72</td>\n      <td>15.8</td>\n      <td>1</td>\n    </tr>\n    <tr>\n      <th>8</th>\n      <td>Florida</td>\n      <td>15.4</td>\n      <td>335</td>\n      <td>80</td>\n      <td>31.9</td>\n      <td>2</td>\n    </tr>\n    <tr>\n      <th>9</th>\n      <td>Georgia</td>\n      <td>17.4</td>\n      <td>211</td>\n      <td>60</td>\n      <td>25.8</td>\n      <td>0</td>\n    </tr>\n    <tr>\n      <th>10</th>\n      <td>Hawaii</td>\n      <td>5.3</td>\n      <td>46</td>\n      <td>83</td>\n      <td>20.2</td>\n      <td>0</td>\n    </tr>\n    <tr>\n      <th>11</th>\n      <td>Idaho</td>\n      <td>2.6</td>\n      <td>120</td>\n      <td>54</td>\n      <td>14.2</td>\n      <td>0</td>\n    </tr>\n    <tr>\n      <th>12</th>\n      <td>Illinois</td>\n      <td>10.4</td>\n      <td>249</td>\n      <td>83</td>\n      <td>24.0</td>\n      <td>0</td>\n    </tr>\n    <tr>\n      <th>13</th>\n      <td>Indiana</td>\n      <td>7.2</td>\n      <td>113</td>\n      <td>65</td>\n      <td>21.0</td>\n      <td>0</td>\n    </tr>\n    <tr>\n      <th>14</th>\n      <td>Iowa</td>\n      <td>2.2</td>\n      <td>56</td>\n      <td>57</td>\n      <td>11.3</td>\n      <td>0</td>\n    </tr>\n    <tr>\n      <th>15</th>\n      <td>Kansas</td>\n      <td>6.0</td>\n      <td>115</td>\n      <td>66</td>\n      <td>18.0</td>\n      <td>0</td>\n    </tr>\n    <tr>\n      <th>16</th>\n      <td>Kentucky</td>\n      <td>9.7</td>\n      <td>109</td>\n      <td>52</td>\n      <td>16.3</td>\n      <td>0</td>\n    </tr>\n    <tr>\n      <th>17</th>\n      <td>Louisiana</td>\n      <td>15.4</td>\n      <td>249</td>\n      <td>66</td>\n      <td>22.2</td>\n      <td>0</td>\n    </tr>\n    <tr>\n      <th>18</th>\n      <td>Maine</td>\n      <td>2.1</td>\n      <td>83</td>\n      <td>51</td>\n      <td>7.8</td>\n      <td>0</td>\n    </tr>\n    <tr>\n      <th>19</th>\n      <td>Maryland</td>\n      <td>11.3</td>\n      <td>300</td>\n      <td>67</td>\n      <td>27.8</td>\n      <td>0</td>\n    </tr>\n    <tr>\n      <th>20</th>\n      <td>Massachusetts</td>\n      <td>4.4</td>\n      <td>149</td>\n      <td>85</td>\n      <td>16.3</td>\n      <td>0</td>\n    </tr>\n    <tr>\n      <th>21</th>\n      <td>Michigan</td>\n      <td>12.1</td>\n      <td>255</td>\n      <td>74</td>\n      <td>35.1</td>\n      <td>0</td>\n    </tr>\n    <tr>\n      <th>22</th>\n      <td>Minnesota</td>\n      <td>2.7</td>\n      <td>72</td>\n      <td>66</td>\n      <td>14.9</td>\n      <td>0</td>\n    </tr>\n    <tr>\n      <th>23</th>\n      <td>Mississippi</td>\n      <td>16.1</td>\n      <td>259</td>\n      <td>44</td>\n      <td>17.1</td>\n      <td>0</td>\n    </tr>\n    <tr>\n      <th>24</th>\n      <td>Missouri</td>\n      <td>9.0</td>\n      <td>178</td>\n      <td>70</td>\n      <td>28.2</td>\n      <td>0</td>\n    </tr>\n    <tr>\n      <th>25</th>\n      <td>Montana</td>\n      <td>6.0</td>\n      <td>109</td>\n      <td>53</td>\n      <td>16.4</td>\n      <td>0</td>\n    </tr>\n    <tr>\n      <th>26</th>\n      <td>Nebraska</td>\n      <td>4.3</td>\n      <td>102</td>\n      <td>62</td>\n      <td>16.5</td>\n      <td>0</td>\n    </tr>\n    <tr>\n      <th>27</th>\n      <td>Nevada</td>\n      <td>12.2</td>\n      <td>252</td>\n      <td>81</td>\n      <td>46.0</td>\n      <td>0</td>\n    </tr>\n    <tr>\n      <th>28</th>\n      <td>New Hampshire</td>\n      <td>2.1</td>\n      <td>57</td>\n      <td>56</td>\n      <td>9.5</td>\n      <td>0</td>\n    </tr>\n    <tr>\n      <th>29</th>\n      <td>New Jersey</td>\n      <td>7.4</td>\n      <td>159</td>\n      <td>89</td>\n      <td>18.8</td>\n      <td>0</td>\n    </tr>\n    <tr>\n      <th>30</th>\n      <td>New Mexico</td>\n      <td>11.4</td>\n      <td>285</td>\n      <td>70</td>\n      <td>32.1</td>\n      <td>0</td>\n    </tr>\n    <tr>\n      <th>31</th>\n      <td>New York</td>\n      <td>11.1</td>\n      <td>254</td>\n      <td>86</td>\n      <td>26.1</td>\n      <td>0</td>\n    </tr>\n    <tr>\n      <th>32</th>\n      <td>North Carolina</td>\n      <td>13.0</td>\n      <td>337</td>\n      <td>45</td>\n      <td>16.1</td>\n      <td>0</td>\n    </tr>\n    <tr>\n      <th>33</th>\n      <td>North Dakota</td>\n      <td>0.8</td>\n      <td>45</td>\n      <td>44</td>\n      <td>7.3</td>\n      <td>0</td>\n    </tr>\n    <tr>\n      <th>34</th>\n      <td>Ohio</td>\n      <td>7.3</td>\n      <td>120</td>\n      <td>75</td>\n      <td>21.4</td>\n      <td>0</td>\n    </tr>\n    <tr>\n      <th>35</th>\n      <td>Oklahoma</td>\n      <td>6.6</td>\n      <td>151</td>\n      <td>68</td>\n      <td>20.0</td>\n      <td>0</td>\n    </tr>\n    <tr>\n      <th>36</th>\n      <td>Oregon</td>\n      <td>4.9</td>\n      <td>159</td>\n      <td>67</td>\n      <td>29.3</td>\n      <td>0</td>\n    </tr>\n    <tr>\n      <th>37</th>\n      <td>Pennsylvania</td>\n      <td>6.3</td>\n      <td>106</td>\n      <td>72</td>\n      <td>14.9</td>\n      <td>0</td>\n    </tr>\n    <tr>\n      <th>38</th>\n      <td>Rhode Island</td>\n      <td>3.4</td>\n      <td>174</td>\n      <td>87</td>\n      <td>8.3</td>\n      <td>0</td>\n    </tr>\n    <tr>\n      <th>39</th>\n      <td>South Carolina</td>\n      <td>14.4</td>\n      <td>279</td>\n      <td>48</td>\n      <td>22.5</td>\n      <td>0</td>\n    </tr>\n    <tr>\n      <th>40</th>\n      <td>South Dakota</td>\n      <td>3.8</td>\n      <td>86</td>\n      <td>45</td>\n      <td>12.8</td>\n      <td>0</td>\n    </tr>\n    <tr>\n      <th>41</th>\n      <td>Tennessee</td>\n      <td>13.2</td>\n      <td>188</td>\n      <td>59</td>\n      <td>26.9</td>\n      <td>0</td>\n    </tr>\n    <tr>\n      <th>42</th>\n      <td>Texas</td>\n      <td>12.7</td>\n      <td>201</td>\n      <td>80</td>\n      <td>25.5</td>\n      <td>0</td>\n    </tr>\n    <tr>\n      <th>43</th>\n      <td>Utah</td>\n      <td>3.2</td>\n      <td>120</td>\n      <td>80</td>\n      <td>22.9</td>\n      <td>0</td>\n    </tr>\n    <tr>\n      <th>44</th>\n      <td>Vermont</td>\n      <td>2.2</td>\n      <td>48</td>\n      <td>32</td>\n      <td>11.2</td>\n      <td>0</td>\n    </tr>\n    <tr>\n      <th>45</th>\n      <td>Virginia</td>\n      <td>8.5</td>\n      <td>156</td>\n      <td>63</td>\n      <td>20.7</td>\n      <td>0</td>\n    </tr>\n    <tr>\n      <th>46</th>\n      <td>Washington</td>\n      <td>4.0</td>\n      <td>145</td>\n      <td>73</td>\n      <td>26.2</td>\n      <td>0</td>\n    </tr>\n    <tr>\n      <th>47</th>\n      <td>West Virginia</td>\n      <td>5.7</td>\n      <td>81</td>\n      <td>39</td>\n      <td>9.3</td>\n      <td>0</td>\n    </tr>\n    <tr>\n      <th>48</th>\n      <td>Wisconsin</td>\n      <td>2.6</td>\n      <td>53</td>\n      <td>66</td>\n      <td>10.8</td>\n      <td>0</td>\n    </tr>\n    <tr>\n      <th>49</th>\n      <td>Wyoming</td>\n      <td>6.8</td>\n      <td>161</td>\n      <td>60</td>\n      <td>15.6</td>\n      <td>0</td>\n    </tr>\n  </tbody>\n</table>\n</div>"
          },
          "metadata": {}
        }
      ]
    },
    {
      "metadata": {
        "trusted": true
      },
      "cell_type": "code",
      "source": "Clusters",
      "execution_count": 36,
      "outputs": [
        {
          "output_type": "execute_result",
          "execution_count": 36,
          "data": {
            "text/plain": "    Clusters\n0          0\n1          3\n2          0\n3          0\n4          0\n5          0\n6          0\n7          1\n8          2\n9          0\n10         0\n11         0\n12         0\n13         0\n14         0\n15         0\n16         0\n17         0\n18         0\n19         0\n20         0\n21         0\n22         0\n23         0\n24         0\n25         0\n26         0\n27         0\n28         0\n29         0\n30         0\n31         0\n32         0\n33         0\n34         0\n35         0\n36         0\n37         0\n38         0\n39         0\n40         0\n41         0\n42         0\n43         0\n44         0\n45         0\n46         0\n47         0\n48         0\n49         0",
            "text/html": "<div>\n<style scoped>\n    .dataframe tbody tr th:only-of-type {\n        vertical-align: middle;\n    }\n\n    .dataframe tbody tr th {\n        vertical-align: top;\n    }\n\n    .dataframe thead th {\n        text-align: right;\n    }\n</style>\n<table border=\"1\" class=\"dataframe\">\n  <thead>\n    <tr style=\"text-align: right;\">\n      <th></th>\n      <th>Clusters</th>\n    </tr>\n  </thead>\n  <tbody>\n    <tr>\n      <th>0</th>\n      <td>0</td>\n    </tr>\n    <tr>\n      <th>1</th>\n      <td>3</td>\n    </tr>\n    <tr>\n      <th>2</th>\n      <td>0</td>\n    </tr>\n    <tr>\n      <th>3</th>\n      <td>0</td>\n    </tr>\n    <tr>\n      <th>4</th>\n      <td>0</td>\n    </tr>\n    <tr>\n      <th>5</th>\n      <td>0</td>\n    </tr>\n    <tr>\n      <th>6</th>\n      <td>0</td>\n    </tr>\n    <tr>\n      <th>7</th>\n      <td>1</td>\n    </tr>\n    <tr>\n      <th>8</th>\n      <td>2</td>\n    </tr>\n    <tr>\n      <th>9</th>\n      <td>0</td>\n    </tr>\n    <tr>\n      <th>10</th>\n      <td>0</td>\n    </tr>\n    <tr>\n      <th>11</th>\n      <td>0</td>\n    </tr>\n    <tr>\n      <th>12</th>\n      <td>0</td>\n    </tr>\n    <tr>\n      <th>13</th>\n      <td>0</td>\n    </tr>\n    <tr>\n      <th>14</th>\n      <td>0</td>\n    </tr>\n    <tr>\n      <th>15</th>\n      <td>0</td>\n    </tr>\n    <tr>\n      <th>16</th>\n      <td>0</td>\n    </tr>\n    <tr>\n      <th>17</th>\n      <td>0</td>\n    </tr>\n    <tr>\n      <th>18</th>\n      <td>0</td>\n    </tr>\n    <tr>\n      <th>19</th>\n      <td>0</td>\n    </tr>\n    <tr>\n      <th>20</th>\n      <td>0</td>\n    </tr>\n    <tr>\n      <th>21</th>\n      <td>0</td>\n    </tr>\n    <tr>\n      <th>22</th>\n      <td>0</td>\n    </tr>\n    <tr>\n      <th>23</th>\n      <td>0</td>\n    </tr>\n    <tr>\n      <th>24</th>\n      <td>0</td>\n    </tr>\n    <tr>\n      <th>25</th>\n      <td>0</td>\n    </tr>\n    <tr>\n      <th>26</th>\n      <td>0</td>\n    </tr>\n    <tr>\n      <th>27</th>\n      <td>0</td>\n    </tr>\n    <tr>\n      <th>28</th>\n      <td>0</td>\n    </tr>\n    <tr>\n      <th>29</th>\n      <td>0</td>\n    </tr>\n    <tr>\n      <th>30</th>\n      <td>0</td>\n    </tr>\n    <tr>\n      <th>31</th>\n      <td>0</td>\n    </tr>\n    <tr>\n      <th>32</th>\n      <td>0</td>\n    </tr>\n    <tr>\n      <th>33</th>\n      <td>0</td>\n    </tr>\n    <tr>\n      <th>34</th>\n      <td>0</td>\n    </tr>\n    <tr>\n      <th>35</th>\n      <td>0</td>\n    </tr>\n    <tr>\n      <th>36</th>\n      <td>0</td>\n    </tr>\n    <tr>\n      <th>37</th>\n      <td>0</td>\n    </tr>\n    <tr>\n      <th>38</th>\n      <td>0</td>\n    </tr>\n    <tr>\n      <th>39</th>\n      <td>0</td>\n    </tr>\n    <tr>\n      <th>40</th>\n      <td>0</td>\n    </tr>\n    <tr>\n      <th>41</th>\n      <td>0</td>\n    </tr>\n    <tr>\n      <th>42</th>\n      <td>0</td>\n    </tr>\n    <tr>\n      <th>43</th>\n      <td>0</td>\n    </tr>\n    <tr>\n      <th>44</th>\n      <td>0</td>\n    </tr>\n    <tr>\n      <th>45</th>\n      <td>0</td>\n    </tr>\n    <tr>\n      <th>46</th>\n      <td>0</td>\n    </tr>\n    <tr>\n      <th>47</th>\n      <td>0</td>\n    </tr>\n    <tr>\n      <th>48</th>\n      <td>0</td>\n    </tr>\n    <tr>\n      <th>49</th>\n      <td>0</td>\n    </tr>\n  </tbody>\n</table>\n</div>"
          },
          "metadata": {}
        }
      ]
    },
    {
      "metadata": {
        "trusted": true
      },
      "cell_type": "code",
      "source": "",
      "execution_count": null,
      "outputs": []
    },
    {
      "metadata": {
        "trusted": true
      },
      "cell_type": "code",
      "source": "",
      "execution_count": null,
      "outputs": []
    },
    {
      "metadata": {
        "trusted": true
      },
      "cell_type": "code",
      "source": "",
      "execution_count": null,
      "outputs": []
    }
  ],
  "metadata": {
    "kernelspec": {
      "name": "python3",
      "display_name": "Python 3",
      "language": "python"
    },
    "language_info": {
      "name": "python",
      "version": "3.8.5",
      "mimetype": "text/x-python",
      "codemirror_mode": {
        "name": "ipython",
        "version": 3
      },
      "pygments_lexer": "ipython3",
      "nbconvert_exporter": "python",
      "file_extension": ".py"
    },
    "gist": {
      "id": "",
      "data": {
        "description": "hierarchical clustering.ipynb",
        "public": true
      }
    }
  },
  "nbformat": 4,
  "nbformat_minor": 4
}